{
 "cells": [
  {
   "cell_type": "code",
   "execution_count": 1,
   "metadata": {},
   "outputs": [],
   "source": [
    "import os\n",
    "import shutil\n",
    "from EEG_utils.EEG_utils_Siena import *"
   ]
  },
  {
   "cell_type": "code",
   "execution_count": 2,
   "metadata": {},
   "outputs": [],
   "source": [
    "num_points = 400"
   ]
  },
  {
   "cell_type": "code",
   "execution_count": 3,
   "metadata": {},
   "outputs": [],
   "source": [
    "root_folder = \"..\\\\..\\\\physionet.org\\\\files\\\\siena-scalp-eeg\\\\1.0.0\\\\\"\n",
    "\n",
    "# patient_id = \"PN00\"\n",
    "# record_ids = [\"1\", \"2\", \"4\", \"5\"]\n",
    "\n",
    "# patient_id = \"PN06\"\n",
    "# record_ids = [\"2\", \"3\", \"4\", \"5\"]\n",
    "\n",
    "patient_id = \"PN14\"\n",
    "record_ids = [\"1\", \"2\", \"3\", \"4\"]"
   ]
  },
  {
   "cell_type": "code",
   "execution_count": 4,
   "metadata": {},
   "outputs": [],
   "source": [
    "list_lag_nodes = [10] # [1, 5, 10, 20, 50]\n",
    "list_num_node_features = [10] # [3, 5, 10, 20, 30, 50]\n",
    "\n",
    "top_k_edges = 4\n",
    "corr_sec = 5"
   ]
  },
  {
   "cell_type": "code",
   "execution_count": 5,
   "metadata": {},
   "outputs": [],
   "source": [
    "def sposta_file(cartella_origine, cartella_destinazione):\n",
    "    # Controlla se la cartella di destinazione esiste, altrimenti la crea\n",
    "    if not os.path.exists(cartella_destinazione):\n",
    "        os.makedirs(cartella_destinazione)\n",
    "\n",
    "    # Scorre tutti i file nella cartella di origine\n",
    "    for elemento in os.listdir(cartella_origine):\n",
    "        percorso_elemento = os.path.join(cartella_origine, elemento)\n",
    "        \n",
    "        # Verifica se l'elemento è un file e non una cartella\n",
    "        if os.path.isfile(percorso_elemento):\n",
    "            # Sposta il file nella cartella di destinazione\n",
    "            shutil.move(percorso_elemento, cartella_destinazione)\n",
    "            print(f\"      File {elemento} spostato in {cartella_destinazione}\")"
   ]
  },
  {
   "cell_type": "code",
   "execution_count": null,
   "metadata": {},
   "outputs": [],
   "source": [
    "for lag_nodes in list_lag_nodes:\n",
    "    print(f\"  Distanza {lag_nodes}\")\n",
    "    for num_node_features in list_num_node_features:\n",
    "        print(f\"   Node feature {num_node_features}\")\n",
    "        for record_id in record_ids:\n",
    "            print(f\"     {patient_id}_{record_id}\")\n",
    "            patient = Patient(FilePatient(root_folder, patient_id, record_id), num_points=num_points, num_node_features=num_node_features, lag_nodes=lag_nodes, top_k_edges=top_k_edges, corr_sec=corr_sec)\n",
    "            patient.extract_seizure_info()\n",
    "            patient.load_data()\n",
    "            patient.plot_signals()\n",
    "            patient.compute_indices()\n",
    "            export_data_to_GRETEL(patient)\n",
    "            export_coordinates(patient)\n",
    "        sposta_file(\"EEG_data\", f\"EEG_data/Distanza {lag_nodes}/{num_node_features} node feature\")\n",
    "        print(\"-----------------------------\")"
   ]
  }
 ],
 "metadata": {
  "kernelspec": {
   "display_name": "EEG_3",
   "language": "python",
   "name": "python3"
  },
  "language_info": {
   "codemirror_mode": {
    "name": "ipython",
    "version": 3
   },
   "file_extension": ".py",
   "mimetype": "text/x-python",
   "name": "python",
   "nbconvert_exporter": "python",
   "pygments_lexer": "ipython3",
   "version": "3.10.15"
  }
 },
 "nbformat": 4,
 "nbformat_minor": 2
}
