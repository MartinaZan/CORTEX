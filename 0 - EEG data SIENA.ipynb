{
 "cells": [
  {
   "cell_type": "markdown",
   "metadata": {},
   "source": [
    "Crea i singoli file json che vengono poi letti da Gretel  \n",
    "-> RUN IN EEG_3 ENVIRONMENT"
   ]
  },
  {
   "cell_type": "code",
   "execution_count": 6,
   "metadata": {},
   "outputs": [],
   "source": [
    "from EEG_utils.EEG_utils_Siena import *"
   ]
  },
  {
   "cell_type": "code",
   "execution_count": 7,
   "metadata": {},
   "outputs": [],
   "source": [
    "root_folder = \"C:\\\\Users\\\\zanno\\\\physionet.org\\\\files\\\\siena-scalp-eeg\\\\1.0.0\\\\\"\n",
    "\n",
    "# observations = [\"PN07-1\"]\n",
    "\n",
    "patient_id = \"PN00\"\n",
    "record_id = \"2\"\n",
    "\n",
    "num_points = 300"
   ]
  },
  {
   "cell_type": "code",
   "execution_count": null,
   "metadata": {},
   "outputs": [],
   "source": [
    "# Create patient\n",
    "patient = Patient(FilePatient(root_folder, patient_id, record_id), num_points=num_points, num_node_features=3)\n",
    "\n",
    "# Extract data\n",
    "print('Extracting data...')\n",
    "patient.extract_seizure_info()      # Extracting seizure information\n",
    "patient.load_data()                 # Loading EEG data\n",
    "patient.plot_signals()              # Plotting the signals with seizures highlighted\n",
    "\n",
    "# Compute indices\n",
    "patient.compute_indices()           # Performing sliding window correlation\n",
    "patient.plot_indices()              # I can also do patient.plot_indices(xlim=(600,900))\n",
    "\n",
    "# Create graph\n",
    "print('Creating graphs...')\n",
    "export_data_to_GRETEL(patient)      # Create graphs for GRETEL\n",
    "\n",
    "print('Calculating nodes\\' coordinates...')\n",
    "export_coordinates(patient)         # Export coordinates"
   ]
  },
  {
   "cell_type": "markdown",
   "metadata": {},
   "source": [
    "# __________________________________________________________________________"
   ]
  },
  {
   "cell_type": "code",
   "execution_count": 9,
   "metadata": {},
   "outputs": [
    {
     "name": "stdout",
     "output_type": "stream",
     "text": [
      "Ultima esecuzione completa: 24/03/2025, ore 15:07\n"
     ]
    }
   ],
   "source": [
    "import datetime\n",
    "\n",
    "now = datetime.datetime.now()\n",
    "print(\"Ultima esecuzione completa:\", now.strftime(\"%d/%m/%Y, ore %H:%M\"))"
   ]
  },
  {
   "cell_type": "code",
   "execution_count": 10,
   "metadata": {},
   "outputs": [],
   "source": [
    "import winsound\n",
    "\n",
    "winsound.Beep(440, 500)\n",
    "winsound.Beep(400, 500)\n",
    "winsound.Beep(440, 500)"
   ]
  }
 ],
 "metadata": {
  "kernelspec": {
   "display_name": "EEG_3",
   "language": "python",
   "name": "python3"
  },
  "language_info": {
   "codemirror_mode": {
    "name": "ipython",
    "version": 3
   },
   "file_extension": ".py",
   "mimetype": "text/x-python",
   "name": "python",
   "nbconvert_exporter": "python",
   "pygments_lexer": "ipython3",
   "version": "3.10.15"
  }
 },
 "nbformat": 4,
 "nbformat_minor": 2
}
