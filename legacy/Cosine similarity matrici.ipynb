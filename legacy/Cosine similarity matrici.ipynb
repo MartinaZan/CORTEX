{
 "cells": [
  {
   "cell_type": "code",
   "execution_count": null,
   "id": "86747362",
   "metadata": {},
   "outputs": [],
   "source": [
    "import numpy as np\n",
    "from numpy.linalg import norm\n",
    "\n",
    "def cosine_similarity_matrices(A, B):\n",
    "    # Flatten the matrices into vectors\n",
    "    A_flat = A.flatten()\n",
    "    B_flat = B.flatten()\n",
    "    \n",
    "    # Compute dot product and norms\n",
    "    dot_product = np.dot(A_flat, B_flat)\n",
    "    norm_A = norm(A_flat)\n",
    "    norm_B = norm(B_flat)\n",
    "    \n",
    "    # Avoid division by zero\n",
    "    if norm_A == 0 or norm_B == 0:\n",
    "        return 0.0\n",
    "\n",
    "    return dot_product / (norm_A * norm_B)\n",
    "\n",
    "# Example usage\n",
    "A = np.array([[2, 1], [2, 1]])\n",
    "B = np.array([[2, 1], [4, 2]])\n",
    "\n",
    "similarity = cosine_similarity_matrices(A, B)\n",
    "print(\"Cosine similarity:\", similarity)"
   ]
  }
 ],
 "metadata": {
  "language_info": {
   "name": "python"
  }
 },
 "nbformat": 4,
 "nbformat_minor": 5
}
