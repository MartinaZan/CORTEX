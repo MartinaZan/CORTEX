{
 "cells": [
  {
   "cell_type": "code",
   "execution_count": 1,
   "metadata": {},
   "outputs": [],
   "source": [
    "import pickle\n",
    "\n",
    "from src.evaluation.evaluator_manager import EvaluatorManager\n",
    "from src.evaluation.evaluator_manager_do import EvaluatorManager as PairedEvaluatorManager\n",
    "from src.evaluation.evaluator_manager_triplets import EvaluatorManager as TripletsEvaluatorManager\n",
    "from src.utils.context import Context\n",
    "\n",
    "from utils_martina.my_utils import *"
   ]
  },
  {
   "cell_type": "code",
   "execution_count": 2,
   "metadata": {},
   "outputs": [],
   "source": [
    "import torch\n",
    "torch.manual_seed(0)\n",
    "\n",
    "import random\n",
    "random.seed(0) \n",
    "\n",
    "import numpy as np\n",
    "np.random.seed(0)"
   ]
  },
  {
   "cell_type": "code",
   "execution_count": 3,
   "metadata": {},
   "outputs": [],
   "source": [
    "# Set patient and record (same channels)\n",
    "\n",
    "observations = [\"chb01_03\", \"chb01_04\", \"chb01_15\", \"chb01_16\", \"chb01_18\", \"chb01_21\", \"chb01_26\"]\n",
    "# observations = [\"chb03_01\", \"chb03_02\", \"chb03_03\", \"chb03_04\", \"chb03_34\", \"chb03_35\", \"chb03_36\"]\n",
    "observations = [\"chb01_03\"]\n",
    "\n",
    "# observations = [\"chb02_16\", \"chb02_19\"]\n",
    "# observations = [\"chb05_06\", \"chb05_13\", \"chb05_16\", \"chb05_17\", \"chb05_22\"]\n",
    "# observations = [\"chb06_01\", \"chb06_04\"] #, \"chb06_09\", \"chb06_10\", \"chb06_13\", \"chb06_18\", \"chb06_24\"]\n",
    "# observations = [\"PN00_1\", \"PN00_2\", \"PN00_4\", \"PN00_5\"]\n",
    "# observations = [\"PN14_1\", \"PN14_2\", \"PN14_3\", \"PN14_4\"]\n",
    "\n",
    "create_dataset_json(observations)"
   ]
  },
  {
   "cell_type": "code",
   "execution_count": 4,
   "metadata": {},
   "outputs": [],
   "source": [
    "logs_path = \"..\\\\..\\\\explainability\\GRETEL-repo\\\\output\\\\logs\\\\\"\n",
    "eval_manager_path = \"..\\\\..\\\\explainability\\GRETEL-repo\\\\output\\\\eval_manager\\\\\""
   ]
  },
  {
   "cell_type": "markdown",
   "metadata": {},
   "source": [
    "## Removing cache data"
   ]
  },
  {
   "cell_type": "code",
   "execution_count": 5,
   "metadata": {},
   "outputs": [],
   "source": [
    "remove_cache = True\n",
    "\n",
    "if remove_cache:\n",
    "    list_folders = [\".\\data\\cache\\datasets\", \".\\data\\cache\\explainers\", \".\\data\\cache\\oracles\"]\n",
    "\n",
    "    for folder in list_folders:\n",
    "        for file in os.listdir(folder):\n",
    "            # Checks if the file begins with \"EEG-\"\n",
    "            if file.startswith(\"EEG-\"):\n",
    "                cache_path = os.path.join(folder, file)\n",
    "                if os.path.isfile(cache_path):\n",
    "                    os.remove(cache_path)\n",
    "                    print(f\"Removed file: {cache_path}\")\n",
    "                elif os.path.isdir(cache_path):\n",
    "                    shutil.rmtree(cache_path)\n",
    "                    print(f\"Removed folder: {cache_path}\")"
   ]
  },
  {
   "cell_type": "markdown",
   "metadata": {},
   "source": [
    "## Run Gretel experiment"
   ]
  },
  {
   "cell_type": "code",
   "execution_count": 6,
   "metadata": {},
   "outputs": [
    {
     "name": "stdout",
     "output_type": "stream",
     "text": [
      "2025-07-01 13:37:31,785 | INFO | 10084 - Evaluating patients: ['chb01_03']\n",
      "2025-07-01 13:37:31,814 | INFO | 10084 - Executing: config/EEG-CORR-topk.jsonc Run: -1\n",
      "2025-07-01 13:37:31,903 | INFO | 10084 - Loading: EEG_CORR-de06c16fa8ace94a10dfffa426863471\n",
      "2025-07-01 13:37:31,981 | INFO | 10084 - Created: EEG_CORR-de06c16fa8ace94a10dfffa426863471\n",
      "2025-07-01 13:37:32,000 | INFO | 10084 - Instantiating: src.oracle.nn.gcn.DownstreamGCN\n",
      "2025-07-01 13:37:32,000 | INFO | 10084 - Instantiating: torch.optim.RMSprop\n",
      "2025-07-01 13:37:32,014 | INFO | 10084 - Instantiating: torch.nn.CrossEntropyLoss\n",
      "2025-07-01 13:37:32,066 | INFO | 10084 - Creating: OracleTorch-7c1bb8e50efbc4e31eabd1462d22236b\n",
      "2025-07-01 13:37:32,317 | INFO | 10084 - epoch = 0 ---> loss = 0.6867\t accuracy = 0.5716\n",
      "2025-07-01 13:37:32,497 | INFO | 10084 - epoch = 1 ---> loss = 0.6648\t accuracy = 0.5898\n",
      "2025-07-01 13:37:32,664 | INFO | 10084 - epoch = 2 ---> loss = 0.6414\t accuracy = 0.6732\n",
      "2025-07-01 13:37:32,847 | INFO | 10084 - Test Accuracy = 0.8594\n",
      "2025-07-01 13:37:32,902 | INFO | 10084 - Test F1 Score = 0.8563\n",
      "2025-07-01 13:37:32,930 | INFO | 10084 - Test Precision = 0.8803\n",
      "2025-07-01 13:37:32,966 | INFO | 10084 - Test Recall = 0.8554\n",
      "2025-07-01 13:37:33,001 | INFO | 10084 - OracleTorch trained on cpu in: 0.8997800350189209 secs\n",
      "2025-07-01 13:37:33,050 | INFO | 10084 - Saved: OracleTorch-7c1bb8e50efbc4e31eabd1462d22236b\n",
      "2025-07-01 13:37:33,085 | INFO | 10084 - Created: OracleTorch-7c1bb8e50efbc4e31eabd1462d22236b\n",
      "2025-07-01 13:37:33,100 | INFO | 10084 - Instantiating: src.explainer.heuristic.obs_dist.ObliviousBidirectionalDistance\n",
      "2025-07-01 13:37:33,135 | INFO | 10084 - Created: ObliviousBidirectionalSearchExplainer-b71456c13d132db15f53720d48c092a4\n",
      "2025-07-01 13:37:33,173 | INFO | 10084 - Loading: EEG_CORR-de06c16fa8ace94a10dfffa426863471\n",
      "2025-07-01 13:37:33,383 | INFO | 10084 - Created: EEG_CORR-de06c16fa8ace94a10dfffa426863471\n",
      "2025-07-01 13:37:33,387 | INFO | 10084 - Instantiating: src.oracle.nn.gcn.DownstreamGCN\n",
      "2025-07-01 13:37:33,391 | INFO | 10084 - Instantiating: torch.optim.RMSprop\n",
      "2025-07-01 13:37:33,392 | INFO | 10084 - Instantiating: torch.nn.CrossEntropyLoss\n",
      "2025-07-01 13:37:33,436 | INFO | 10084 - Loading: OracleTorch-7c1bb8e50efbc4e31eabd1462d22236b\n",
      "2025-07-01 13:37:33,474 | INFO | 10084 - Created: OracleTorch-7c1bb8e50efbc4e31eabd1462d22236b\n",
      "2025-07-01 13:37:33,476 | INFO | 10084 - Instantiating: src.evaluation.evaluation_metric_ged.GraphEditDistanceMetric\n",
      "2025-07-01 13:37:33,505 | INFO | 10084 - Created: DataDrivenBidirectionalSearchExplainer-224f2f98a272bfe7d67dad45c9760819\n",
      "[<src.evaluation.evaluation_metric_runtime.RuntimeMetric object at 0x000001D844D31910>, <src.evaluation.evaluation_metric_ged.GraphEditDistanceMetric object at 0x000001D844D31730>, <src.evaluation.evaluation_metric_oracle_calls.OracleCallsMetric object at 0x000001D844D312E0>, <src.evaluation.evaluation_metric_correctness.CorrectnessMetric object at 0x000001D844D319A0>, <src.evaluation.evaluation_metric_sparsity.SparsityMetric object at 0x000001D844D31370>, <src.evaluation.evaluation_metric_fidelity.FidelityMetric object at 0x000001D844D31B80>, <src.evaluation.evaluation_metric_oracle_accuracy.OracleAccuracyMetric object at 0x000001D844D31520>]\n",
      "2025-07-01 13:37:33,509 | INFO | 10084 - Evaluating instance with id 32\n",
      "2025-07-01 13:37:39,227 | INFO | 10084 - evaluated instance with id 32\n",
      "2025-07-01 13:37:39,243 | INFO | 10084 - Evaluating instance with id 33\n",
      "2025-07-01 13:37:40,062 | INFO | 10084 - evaluated instance with id 33\n",
      "2025-07-01 13:37:40,062 | INFO | 10084 - Evaluating instance with id 34\n",
      "2025-07-01 13:37:45,907 | INFO | 10084 - evaluated instance with id 34\n",
      "2025-07-01 13:37:45,907 | INFO | 10084 - Evaluating instance with id 42\n",
      "2025-07-01 13:37:48,339 | INFO | 10084 - evaluated instance with id 42\n",
      "2025-07-01 13:37:48,339 | INFO | 10084 - Evaluating instance with id 43\n",
      "2025-07-01 13:37:54,086 | INFO | 10084 - evaluated instance with id 43\n",
      "2025-07-01 13:37:54,086 | INFO | 10084 - Evaluating instance with id 49\n"
     ]
    },
    {
     "ename": "KeyboardInterrupt",
     "evalue": "",
     "output_type": "error",
     "traceback": [
      "\u001b[1;31m---------------------------------------------------------------------------\u001b[0m",
      "\u001b[1;31mKeyboardInterrupt\u001b[0m                         Traceback (most recent call last)",
      "Cell \u001b[1;32mIn[6], line 10\u001b[0m\n\u001b[0;32m      7\u001b[0m context\u001b[38;5;241m.\u001b[39mlogger\u001b[38;5;241m.\u001b[39minfo(\u001b[38;5;124mf\u001b[39m\u001b[38;5;124m\"\u001b[39m\u001b[38;5;124mExecuting: \u001b[39m\u001b[38;5;132;01m{\u001b[39;00mcontext\u001b[38;5;241m.\u001b[39mconfig_file\u001b[38;5;132;01m}\u001b[39;00m\u001b[38;5;124m Run: \u001b[39m\u001b[38;5;132;01m{\u001b[39;00mcontext\u001b[38;5;241m.\u001b[39mrun_number\u001b[38;5;132;01m}\u001b[39;00m\u001b[38;5;124m\"\u001b[39m)\n\u001b[0;32m      8\u001b[0m eval_manager \u001b[38;5;241m=\u001b[39m PairedEvaluatorManager(context)\n\u001b[1;32m---> 10\u001b[0m \u001b[43meval_manager\u001b[49m\u001b[38;5;241;43m.\u001b[39;49m\u001b[43mevaluate\u001b[49m\u001b[43m(\u001b[49m\u001b[43m)\u001b[49m\n",
      "File \u001b[1;32mc:\\Users\\zanno\\explainability\\GRETEL-repo\\src\\evaluation\\evaluator_manager_do.py:85\u001b[0m, in \u001b[0;36mEvaluatorManager.evaluate\u001b[1;34m(self)\u001b[0m\n\u001b[0;32m     76\u001b[0m \u001b[38;5;250m\u001b[39m\u001b[38;5;124;03m\"\"\"Evaluates each combination of dataset-oracle-explainer using the chosen evaluation metrics\u001b[39;00m\n\u001b[0;32m     77\u001b[0m \u001b[38;5;124;03m \u001b[39;00m\n\u001b[0;32m     78\u001b[0m \u001b[38;5;124;03m-------------\u001b[39;00m\n\u001b[1;32m   (...)\u001b[0m\n\u001b[0;32m     82\u001b[0m \u001b[38;5;124;03mOUTPUT: None\u001b[39;00m\n\u001b[0;32m     83\u001b[0m \u001b[38;5;124;03m\"\"\"\u001b[39;00m\n\u001b[0;32m     84\u001b[0m \u001b[38;5;28;01mfor\u001b[39;00m evaluator \u001b[38;5;129;01min\u001b[39;00m \u001b[38;5;28mself\u001b[39m\u001b[38;5;241m.\u001b[39m_evaluators:\n\u001b[1;32m---> 85\u001b[0m     \u001b[43mevaluator\u001b[49m\u001b[38;5;241;43m.\u001b[39;49m\u001b[43mevaluate\u001b[49m\u001b[43m(\u001b[49m\u001b[43m)\u001b[49m\n\u001b[0;32m     87\u001b[0m \u001b[38;5;28;01mfor\u001b[39;00m evaluator \u001b[38;5;129;01min\u001b[39;00m \u001b[38;5;28mself\u001b[39m\u001b[38;5;241m.\u001b[39m_evaluators:\n\u001b[0;32m     88\u001b[0m     dataset \u001b[38;5;241m=\u001b[39m evaluator\u001b[38;5;241m.\u001b[39mdataset\n",
      "File \u001b[1;32mc:\\Users\\zanno\\explainability\\GRETEL-repo\\src\\evaluation\\evaluator_base.py:177\u001b[0m, in \u001b[0;36mEvaluator.evaluate\u001b[1;34m(self)\u001b[0m\n\u001b[0;32m    175\u001b[0m \u001b[38;5;28;01mfor\u001b[39;00m metric \u001b[38;5;129;01min\u001b[39;00m \u001b[38;5;28mself\u001b[39m\u001b[38;5;241m.\u001b[39m_evaluation_metrics:\n\u001b[0;32m    176\u001b[0m     \u001b[38;5;28;01mif\u001b[39;00m(metric\u001b[38;5;241m.\u001b[39m_special):\n\u001b[1;32m--> 177\u001b[0m         val, counterfactual \u001b[38;5;241m=\u001b[39m \u001b[43mmetric\u001b[49m\u001b[38;5;241;43m.\u001b[39;49m\u001b[43mevaluate\u001b[49m\u001b[43m(\u001b[49m\u001b[43minst\u001b[49m\u001b[43m,\u001b[49m\u001b[43m \u001b[49m\u001b[38;5;28;43;01mNone\u001b[39;49;00m\u001b[43m,\u001b[49m\u001b[43m \u001b[49m\u001b[38;5;28;43mself\u001b[39;49m\u001b[38;5;241;43m.\u001b[39;49m\u001b[43m_oracle\u001b[49m\u001b[43m,\u001b[49m\u001b[38;5;28;43mself\u001b[39;49m\u001b[38;5;241;43m.\u001b[39;49m\u001b[43m_explainer\u001b[49m\u001b[43m,\u001b[49m\u001b[38;5;28;43mself\u001b[39;49m\u001b[38;5;241;43m.\u001b[39;49m\u001b[43m_data\u001b[49m\u001b[43m)\u001b[49m\n\u001b[0;32m    178\u001b[0m         \u001b[38;5;28mself\u001b[39m\u001b[38;5;241m.\u001b[39m_results[Context\u001b[38;5;241m.\u001b[39mget_fullname(metric)]\u001b[38;5;241m.\u001b[39mappend({\u001b[38;5;124m\"\u001b[39m\u001b[38;5;124mid\u001b[39m\u001b[38;5;124m\"\u001b[39m:\u001b[38;5;28mstr\u001b[39m(inst\u001b[38;5;241m.\u001b[39mid),\u001b[38;5;124m\"\u001b[39m\u001b[38;5;124mtime\u001b[39m\u001b[38;5;124m\"\u001b[39m:inst\u001b[38;5;241m.\u001b[39mtime,\u001b[38;5;124m\"\u001b[39m\u001b[38;5;124mrecord\u001b[39m\u001b[38;5;124m\"\u001b[39m:\u001b[38;5;124mf\u001b[39m\u001b[38;5;124m\"\u001b[39m\u001b[38;5;132;01m{\u001b[39;00minst\u001b[38;5;241m.\u001b[39mpatient_id\u001b[38;5;132;01m}\u001b[39;00m\u001b[38;5;124m_\u001b[39m\u001b[38;5;132;01m{\u001b[39;00minst\u001b[38;5;241m.\u001b[39mrecord_id\u001b[38;5;132;01m}\u001b[39;00m\u001b[38;5;124m\"\u001b[39m,\u001b[38;5;124m\"\u001b[39m\u001b[38;5;124mvalue\u001b[39m\u001b[38;5;124m\"\u001b[39m:val})\n\u001b[0;32m    179\u001b[0m         \u001b[38;5;28mself\u001b[39m\u001b[38;5;241m.\u001b[39m_explanations\u001b[38;5;241m.\u001b[39mappend(counterfactual)\n",
      "File \u001b[1;32mc:\\Users\\zanno\\explainability\\GRETEL-repo\\src\\evaluation\\evaluation_metric_runtime.py:16\u001b[0m, in \u001b[0;36mRuntimeMetric.evaluate\u001b[1;34m(self, instance_1, instance_2, oracle, explainer, dataset)\u001b[0m\n\u001b[0;32m     14\u001b[0m \u001b[38;5;28;01mdef\u001b[39;00m \u001b[38;5;21mevaluate\u001b[39m(\u001b[38;5;28mself\u001b[39m, instance_1 , instance_2 , oracle : Oracle\u001b[38;5;241m=\u001b[39m\u001b[38;5;28;01mNone\u001b[39;00m, explainer : Explainer\u001b[38;5;241m=\u001b[39m\u001b[38;5;28;01mNone\u001b[39;00m, dataset \u001b[38;5;241m=\u001b[39m \u001b[38;5;28;01mNone\u001b[39;00m):\n\u001b[0;32m     15\u001b[0m     start_time \u001b[38;5;241m=\u001b[39m time\u001b[38;5;241m.\u001b[39mtime()\n\u001b[1;32m---> 16\u001b[0m     counterfactual \u001b[38;5;241m=\u001b[39m \u001b[43mexplainer\u001b[49m\u001b[38;5;241;43m.\u001b[39;49m\u001b[43mexplain\u001b[49m\u001b[43m(\u001b[49m\u001b[43minstance_1\u001b[49m\u001b[43m)\u001b[49m\n\u001b[0;32m     17\u001b[0m     end_time \u001b[38;5;241m=\u001b[39m time\u001b[38;5;241m.\u001b[39mtime()\n\u001b[0;32m     18\u001b[0m     \u001b[38;5;66;03m# giving the same id to the counterfactual and the original instance \u001b[39;00m\n",
      "File \u001b[1;32mc:\\Users\\zanno\\explainability\\GRETEL-repo\\src\\explainer\\heuristic\\obs.py:44\u001b[0m, in \u001b[0;36mObliviousBidirectionalSearchExplainer.explain\u001b[1;34m(self, instance)\u001b[0m\n\u001b[0;32m     42\u001b[0m instance_matrix \u001b[38;5;241m=\u001b[39m instance\u001b[38;5;241m.\u001b[39mdata\n\u001b[0;32m     43\u001b[0m \u001b[38;5;66;03m# Try to get a first counterfactual with the greedy \"Oblivious Forward Search\"\u001b[39;00m\n\u001b[1;32m---> 44\u001b[0m ged, counterfactual, oracle_calls \u001b[38;5;241m=\u001b[39m \u001b[38;5;28;43mself\u001b[39;49m\u001b[38;5;241;43m.\u001b[39;49m\u001b[43moblivious_forward_search\u001b[49m\u001b[43m(\u001b[49m\u001b[43minstance\u001b[49m\u001b[43m,\u001b[49m\u001b[43m \u001b[49m\n\u001b[0;32m     45\u001b[0m \u001b[43m                                                                  \u001b[49m\u001b[43minstance_matrix\u001b[49m\u001b[43m,\u001b[49m\n\u001b[0;32m     46\u001b[0m \u001b[43m                                                                  \u001b[49m\u001b[43ml_counterfactual\u001b[49m\u001b[43m)\u001b[49m\n\u001b[0;32m     48\u001b[0m final_counterfactual, edit_distance, oracle_calls, info \u001b[38;5;241m=\u001b[39m \u001b[38;5;28mself\u001b[39m\u001b[38;5;241m.\u001b[39moblivious_backward_search(instance, \n\u001b[0;32m     49\u001b[0m                                                                                 instance_matrix, \n\u001b[0;32m     50\u001b[0m                                                                                 counterfactual, \n\u001b[0;32m     51\u001b[0m                                                                                 l_counterfactual)\n\u001b[0;32m     53\u001b[0m \u001b[38;5;66;03m# Converting the final counterfactual into a DataInstance\u001b[39;00m\n",
      "File \u001b[1;32mc:\\Users\\zanno\\explainability\\GRETEL-repo\\src\\explainer\\heuristic\\obs.py:120\u001b[0m, in \u001b[0;36mObliviousBidirectionalSearchExplainer.oblivious_forward_search\u001b[1;34m(self, instance, g_o, y_bar, k, lambda_g, p_0)\u001b[0m\n\u001b[0;32m    113\u001b[0m ki\u001b[38;5;241m=\u001b[39m\u001b[38;5;241m0\u001b[39m\n\u001b[0;32m    115\u001b[0m inst \u001b[38;5;241m=\u001b[39m GraphInstance(\u001b[38;5;28mid\u001b[39m\u001b[38;5;241m=\u001b[39minstance\u001b[38;5;241m.\u001b[39mid, \n\u001b[0;32m    116\u001b[0m                      label\u001b[38;5;241m=\u001b[39m\u001b[38;5;241m0\u001b[39m, \n\u001b[0;32m    117\u001b[0m                      data\u001b[38;5;241m=\u001b[39mg_c,\n\u001b[0;32m    118\u001b[0m                      node_features\u001b[38;5;241m=\u001b[39minstance\u001b[38;5;241m.\u001b[39mnode_features)\n\u001b[1;32m--> 120\u001b[0m r \u001b[38;5;241m=\u001b[39m \u001b[38;5;28;43mself\u001b[39;49m\u001b[38;5;241;43m.\u001b[39;49m\u001b[43moracle\u001b[49m\u001b[38;5;241;43m.\u001b[39;49m\u001b[43mpredict\u001b[49m\u001b[43m(\u001b[49m\u001b[43minst\u001b[49m\u001b[43m)\u001b[49m\n\u001b[0;32m    121\u001b[0m l \u001b[38;5;241m+\u001b[39m\u001b[38;5;241m=\u001b[39m \u001b[38;5;241m1\u001b[39m \u001b[38;5;66;03m# Increase the oracle calls counter\u001b[39;00m\n\u001b[0;32m    123\u001b[0m \u001b[38;5;28;01mif\u001b[39;00m r\u001b[38;5;241m==\u001b[39my_bar:\n\u001b[0;32m    124\u001b[0m     \u001b[38;5;66;03m#print('- A counterfactual is found!')\u001b[39;00m\n",
      "File \u001b[1;32mc:\\Users\\zanno\\explainability\\GRETEL-repo\\src\\core\\oracle_base.py:32\u001b[0m, in \u001b[0;36mOracle.predict\u001b[1;34m(self, data_instance, return_embeddings)\u001b[0m\n\u001b[0;32m     29\u001b[0m     output, embeddings \u001b[38;5;241m=\u001b[39m \u001b[38;5;28mself\u001b[39m\u001b[38;5;241m.\u001b[39m_real_predict(data_instance,return_embeddings\u001b[38;5;241m=\u001b[39m\u001b[38;5;28;01mTrue\u001b[39;00m)\n\u001b[0;32m     30\u001b[0m     \u001b[38;5;28;01mreturn\u001b[39;00m output, embeddings\n\u001b[1;32m---> 32\u001b[0m output \u001b[38;5;241m=\u001b[39m \u001b[38;5;28;43mself\u001b[39;49m\u001b[38;5;241;43m.\u001b[39;49m\u001b[43m_real_predict\u001b[49m\u001b[43m(\u001b[49m\u001b[43mdata_instance\u001b[49m\u001b[43m)\u001b[49m\n\u001b[0;32m     34\u001b[0m \u001b[38;5;28;01mreturn\u001b[39;00m output\n",
      "File \u001b[1;32mc:\\Users\\zanno\\explainability\\GRETEL-repo\\src\\oracle\\nn\\torch.py:57\u001b[0m, in \u001b[0;36mOracleTorch._real_predict\u001b[1;34m(self, data_instance, return_embeddings)\u001b[0m\n\u001b[0;32m     54\u001b[0m     output \u001b[38;5;241m=\u001b[39m torch\u001b[38;5;241m.\u001b[39margmax(output)\u001b[38;5;241m.\u001b[39mitem()\n\u001b[0;32m     55\u001b[0m     \u001b[38;5;28;01mreturn\u001b[39;00m output, embeddings\n\u001b[1;32m---> 57\u001b[0m \u001b[38;5;28;01mreturn\u001b[39;00m torch\u001b[38;5;241m.\u001b[39margmax(\u001b[38;5;28;43mself\u001b[39;49m\u001b[38;5;241;43m.\u001b[39;49m\u001b[43m_real_predict_proba\u001b[49m\u001b[43m(\u001b[49m\u001b[43mdata_instance\u001b[49m\u001b[43m,\u001b[49m\u001b[43mreturn_embeddings\u001b[49m\u001b[43m)\u001b[49m)\u001b[38;5;241m.\u001b[39mitem()\n",
      "File \u001b[1;32mc:\\Users\\zanno\\miniconda3\\envs\\GRETEL_2\\lib\\site-packages\\torch\\utils\\_contextlib.py:116\u001b[0m, in \u001b[0;36mcontext_decorator.<locals>.decorate_context\u001b[1;34m(*args, **kwargs)\u001b[0m\n\u001b[0;32m    113\u001b[0m \u001b[38;5;129m@functools\u001b[39m\u001b[38;5;241m.\u001b[39mwraps(func)\n\u001b[0;32m    114\u001b[0m \u001b[38;5;28;01mdef\u001b[39;00m \u001b[38;5;21mdecorate_context\u001b[39m(\u001b[38;5;241m*\u001b[39margs, \u001b[38;5;241m*\u001b[39m\u001b[38;5;241m*\u001b[39mkwargs):\n\u001b[0;32m    115\u001b[0m     \u001b[38;5;28;01mwith\u001b[39;00m ctx_factory():\n\u001b[1;32m--> 116\u001b[0m         \u001b[38;5;28;01mreturn\u001b[39;00m func(\u001b[38;5;241m*\u001b[39margs, \u001b[38;5;241m*\u001b[39m\u001b[38;5;241m*\u001b[39mkwargs)\n",
      "File \u001b[1;32mc:\\Users\\zanno\\explainability\\GRETEL-repo\\src\\oracle\\nn\\torch.py:71\u001b[0m, in \u001b[0;36mOracleTorch._real_predict_proba\u001b[1;34m(self, data_inst, return_embeddings)\u001b[0m\n\u001b[0;32m     68\u001b[0m     output \u001b[38;5;241m=\u001b[39m output\u001b[38;5;241m.\u001b[39mcpu()\u001b[38;5;241m.\u001b[39msqueeze()\n\u001b[0;32m     69\u001b[0m     \u001b[38;5;28;01mreturn\u001b[39;00m output, embeddings\n\u001b[1;32m---> 71\u001b[0m \u001b[38;5;28;01mreturn\u001b[39;00m \u001b[38;5;28;43mself\u001b[39;49m\u001b[38;5;241;43m.\u001b[39;49m\u001b[43mmodel\u001b[49m\u001b[43m(\u001b[49m\u001b[43mnode_features\u001b[49m\u001b[43m,\u001b[49m\u001b[43medge_index\u001b[49m\u001b[43m,\u001b[49m\u001b[43medge_weights\u001b[49m\u001b[43m,\u001b[49m\u001b[43m \u001b[49m\u001b[38;5;28;43;01mNone\u001b[39;49;00m\u001b[43m)\u001b[49m\u001b[38;5;241m.\u001b[39mcpu()\u001b[38;5;241m.\u001b[39msqueeze()\n",
      "File \u001b[1;32mc:\\Users\\zanno\\miniconda3\\envs\\GRETEL_2\\lib\\site-packages\\torch\\nn\\modules\\module.py:1736\u001b[0m, in \u001b[0;36mModule._wrapped_call_impl\u001b[1;34m(self, *args, **kwargs)\u001b[0m\n\u001b[0;32m   1734\u001b[0m     \u001b[38;5;28;01mreturn\u001b[39;00m \u001b[38;5;28mself\u001b[39m\u001b[38;5;241m.\u001b[39m_compiled_call_impl(\u001b[38;5;241m*\u001b[39margs, \u001b[38;5;241m*\u001b[39m\u001b[38;5;241m*\u001b[39mkwargs)  \u001b[38;5;66;03m# type: ignore[misc]\u001b[39;00m\n\u001b[0;32m   1735\u001b[0m \u001b[38;5;28;01melse\u001b[39;00m:\n\u001b[1;32m-> 1736\u001b[0m     \u001b[38;5;28;01mreturn\u001b[39;00m \u001b[38;5;28mself\u001b[39m\u001b[38;5;241m.\u001b[39m_call_impl(\u001b[38;5;241m*\u001b[39margs, \u001b[38;5;241m*\u001b[39m\u001b[38;5;241m*\u001b[39mkwargs)\n",
      "File \u001b[1;32mc:\\Users\\zanno\\miniconda3\\envs\\GRETEL_2\\lib\\site-packages\\torch\\nn\\modules\\module.py:1747\u001b[0m, in \u001b[0;36mModule._call_impl\u001b[1;34m(self, *args, **kwargs)\u001b[0m\n\u001b[0;32m   1742\u001b[0m \u001b[38;5;66;03m# If we don't have any hooks, we want to skip the rest of the logic in\u001b[39;00m\n\u001b[0;32m   1743\u001b[0m \u001b[38;5;66;03m# this function, and just call forward.\u001b[39;00m\n\u001b[0;32m   1744\u001b[0m \u001b[38;5;28;01mif\u001b[39;00m \u001b[38;5;129;01mnot\u001b[39;00m (\u001b[38;5;28mself\u001b[39m\u001b[38;5;241m.\u001b[39m_backward_hooks \u001b[38;5;129;01mor\u001b[39;00m \u001b[38;5;28mself\u001b[39m\u001b[38;5;241m.\u001b[39m_backward_pre_hooks \u001b[38;5;129;01mor\u001b[39;00m \u001b[38;5;28mself\u001b[39m\u001b[38;5;241m.\u001b[39m_forward_hooks \u001b[38;5;129;01mor\u001b[39;00m \u001b[38;5;28mself\u001b[39m\u001b[38;5;241m.\u001b[39m_forward_pre_hooks\n\u001b[0;32m   1745\u001b[0m         \u001b[38;5;129;01mor\u001b[39;00m _global_backward_pre_hooks \u001b[38;5;129;01mor\u001b[39;00m _global_backward_hooks\n\u001b[0;32m   1746\u001b[0m         \u001b[38;5;129;01mor\u001b[39;00m _global_forward_hooks \u001b[38;5;129;01mor\u001b[39;00m _global_forward_pre_hooks):\n\u001b[1;32m-> 1747\u001b[0m     \u001b[38;5;28;01mreturn\u001b[39;00m forward_call(\u001b[38;5;241m*\u001b[39margs, \u001b[38;5;241m*\u001b[39m\u001b[38;5;241m*\u001b[39mkwargs)\n\u001b[0;32m   1749\u001b[0m result \u001b[38;5;241m=\u001b[39m \u001b[38;5;28;01mNone\u001b[39;00m\n\u001b[0;32m   1750\u001b[0m called_always_called_hooks \u001b[38;5;241m=\u001b[39m \u001b[38;5;28mset\u001b[39m()\n",
      "File \u001b[1;32mc:\\Users\\zanno\\explainability\\GRETEL-repo\\src\\oracle\\nn\\gcn.py:46\u001b[0m, in \u001b[0;36mDownstreamGCN.forward\u001b[1;34m(self, node_features, edge_index, edge_weight, batch, return_embeddings)\u001b[0m\n\u001b[0;32m     44\u001b[0m \u001b[38;5;28;01mdef\u001b[39;00m \u001b[38;5;21mforward\u001b[39m(\u001b[38;5;28mself\u001b[39m, node_features, edge_index, edge_weight, batch, return_embeddings\u001b[38;5;241m=\u001b[39m\u001b[38;5;28;01mFalse\u001b[39;00m):\n\u001b[0;32m     45\u001b[0m     \u001b[38;5;66;03m# The input is given to the GCN\u001b[39;00m\n\u001b[1;32m---> 46\u001b[0m     node_features \u001b[38;5;241m=\u001b[39m \u001b[38;5;28;43msuper\u001b[39;49m\u001b[43m(\u001b[49m\u001b[43m)\u001b[49m\u001b[38;5;241;43m.\u001b[39;49m\u001b[43mforward\u001b[49m\u001b[43m(\u001b[49m\u001b[43mnode_features\u001b[49m\u001b[43m,\u001b[49m\u001b[43m \u001b[49m\u001b[43medge_index\u001b[49m\u001b[43m,\u001b[49m\u001b[43m \u001b[49m\u001b[43medge_weight\u001b[49m\u001b[43m,\u001b[49m\u001b[43m \u001b[49m\u001b[43mbatch\u001b[49m\u001b[43m)\u001b[49m\n\u001b[0;32m     48\u001b[0m     \u001b[38;5;28;01mif\u001b[39;00m return_embeddings:\n\u001b[0;32m     49\u001b[0m         graph_embeddings \u001b[38;5;241m=\u001b[39m node_features\n",
      "File \u001b[1;32mc:\\Users\\zanno\\explainability\\GRETEL-repo\\src\\utils\\torch\\gcn.py:33\u001b[0m, in \u001b[0;36mGCN.forward\u001b[1;34m(self, node_features, edge_index, edge_weight, batch)\u001b[0m\n\u001b[0;32m     30\u001b[0m \u001b[38;5;28;01mif\u001b[39;00m \u001b[38;5;28misinstance\u001b[39m(\u001b[38;5;28mself\u001b[39m\u001b[38;5;241m.\u001b[39mgraph_convs[\u001b[38;5;241m-\u001b[39m\u001b[38;5;241m1\u001b[39m],nn\u001b[38;5;241m.\u001b[39mIdentity):\n\u001b[0;32m     31\u001b[0m     \u001b[38;5;28;01mreturn\u001b[39;00m \u001b[38;5;28mself\u001b[39m\u001b[38;5;241m.\u001b[39mgraph_convs[\u001b[38;5;241m-\u001b[39m\u001b[38;5;241m1\u001b[39m](node_features)\n\u001b[1;32m---> 33\u001b[0m output \u001b[38;5;241m=\u001b[39m \u001b[38;5;28;43mself\u001b[39;49m\u001b[38;5;241;43m.\u001b[39;49m\u001b[43mgraph_convs\u001b[49m\u001b[43m[\u001b[49m\u001b[38;5;241;43m-\u001b[39;49m\u001b[38;5;241;43m1\u001b[39;49m\u001b[43m]\u001b[49m\u001b[43m(\u001b[49m\u001b[43mnode_features\u001b[49m\u001b[43m,\u001b[49m\u001b[43m \u001b[49m\u001b[43mbatch\u001b[49m\u001b[43m)\u001b[49m\n\u001b[0;32m     35\u001b[0m \u001b[38;5;28;01mreturn\u001b[39;00m output\n",
      "File \u001b[1;32mc:\\Users\\zanno\\miniconda3\\envs\\GRETEL_2\\lib\\site-packages\\torch_geometric\\experimental.py:115\u001b[0m, in \u001b[0;36mdisable_dynamic_shapes.<locals>.decorator.<locals>.wrapper\u001b[1;34m(*args, **kwargs)\u001b[0m\n\u001b[0;32m    112\u001b[0m \u001b[38;5;129m@functools\u001b[39m\u001b[38;5;241m.\u001b[39mwraps(func)\n\u001b[0;32m    113\u001b[0m \u001b[38;5;28;01mdef\u001b[39;00m \u001b[38;5;21mwrapper\u001b[39m(\u001b[38;5;241m*\u001b[39margs, \u001b[38;5;241m*\u001b[39m\u001b[38;5;241m*\u001b[39mkwargs):\n\u001b[0;32m    114\u001b[0m     \u001b[38;5;28;01mif\u001b[39;00m \u001b[38;5;129;01mnot\u001b[39;00m is_experimental_mode_enabled(\u001b[38;5;124m'\u001b[39m\u001b[38;5;124mdisable_dynamic_shapes\u001b[39m\u001b[38;5;124m'\u001b[39m):\n\u001b[1;32m--> 115\u001b[0m         \u001b[38;5;28;01mreturn\u001b[39;00m func(\u001b[38;5;241m*\u001b[39margs, \u001b[38;5;241m*\u001b[39m\u001b[38;5;241m*\u001b[39mkwargs)\n\u001b[0;32m    117\u001b[0m     \u001b[38;5;28;01mfor\u001b[39;00m required_arg \u001b[38;5;129;01min\u001b[39;00m required_args:\n\u001b[0;32m    118\u001b[0m         index \u001b[38;5;241m=\u001b[39m required_args_pos[required_arg]\n",
      "File \u001b[1;32mc:\\Users\\zanno\\miniconda3\\envs\\GRETEL_2\\lib\\site-packages\\torch_geometric\\nn\\aggr\\base.py:111\u001b[0m, in \u001b[0;36mAggregation.__call__\u001b[1;34m(self, x, index, ptr, dim_size, dim, **kwargs)\u001b[0m\n\u001b[0;32m    107\u001b[0m     \u001b[38;5;28;01mraise\u001b[39;00m \u001b[38;5;167;01mValueError\u001b[39;00m(\u001b[38;5;124mf\u001b[39m\u001b[38;5;124m\"\u001b[39m\u001b[38;5;124mEncountered invalid dimension \u001b[39m\u001b[38;5;124m'\u001b[39m\u001b[38;5;132;01m{\u001b[39;00mdim\u001b[38;5;132;01m}\u001b[39;00m\u001b[38;5;124m'\u001b[39m\u001b[38;5;124m of \u001b[39m\u001b[38;5;124m\"\u001b[39m\n\u001b[0;32m    108\u001b[0m                      \u001b[38;5;124mf\u001b[39m\u001b[38;5;124m\"\u001b[39m\u001b[38;5;124msource tensor with \u001b[39m\u001b[38;5;132;01m{\u001b[39;00mx\u001b[38;5;241m.\u001b[39mdim()\u001b[38;5;132;01m}\u001b[39;00m\u001b[38;5;124m dimensions\u001b[39m\u001b[38;5;124m\"\u001b[39m)\n\u001b[0;32m    110\u001b[0m \u001b[38;5;28;01mif\u001b[39;00m index \u001b[38;5;129;01mis\u001b[39;00m \u001b[38;5;28;01mNone\u001b[39;00m \u001b[38;5;129;01mand\u001b[39;00m ptr \u001b[38;5;129;01mis\u001b[39;00m \u001b[38;5;28;01mNone\u001b[39;00m:\n\u001b[1;32m--> 111\u001b[0m     index \u001b[38;5;241m=\u001b[39m \u001b[43mx\u001b[49m\u001b[38;5;241;43m.\u001b[39;49m\u001b[43mnew_zeros\u001b[49m\u001b[43m(\u001b[49m\u001b[43mx\u001b[49m\u001b[38;5;241;43m.\u001b[39;49m\u001b[43msize\u001b[49m\u001b[43m(\u001b[49m\u001b[43mdim\u001b[49m\u001b[43m)\u001b[49m\u001b[43m,\u001b[49m\u001b[43m \u001b[49m\u001b[43mdtype\u001b[49m\u001b[38;5;241;43m=\u001b[39;49m\u001b[43mtorch\u001b[49m\u001b[38;5;241;43m.\u001b[39;49m\u001b[43mlong\u001b[49m\u001b[43m)\u001b[49m\n\u001b[0;32m    113\u001b[0m \u001b[38;5;28;01mif\u001b[39;00m ptr \u001b[38;5;129;01mis\u001b[39;00m \u001b[38;5;129;01mnot\u001b[39;00m \u001b[38;5;28;01mNone\u001b[39;00m:\n\u001b[0;32m    114\u001b[0m     \u001b[38;5;28;01mif\u001b[39;00m dim_size \u001b[38;5;129;01mis\u001b[39;00m \u001b[38;5;28;01mNone\u001b[39;00m:\n",
      "\u001b[1;31mKeyboardInterrupt\u001b[0m: "
     ]
    }
   ],
   "source": [
    "path = 'config/EEG-CORR-topk.jsonc'\n",
    "\n",
    "context = Context.get_context(path)\n",
    "context.run_number = -1\n",
    "\n",
    "context.logger.info(f\"Evaluating patients: {observations}\")\n",
    "context.logger.info(f\"Executing: {context.config_file} Run: {context.run_number}\")\n",
    "eval_manager = PairedEvaluatorManager(context)\n",
    "\n",
    "eval_manager.evaluate()"
   ]
  },
  {
   "cell_type": "code",
   "execution_count": 7,
   "metadata": {},
   "outputs": [],
   "source": [
    "# Save eval_manager to file\n",
    "file_name = get_most_recent_file(logs_path).split('.')[0]\n",
    "\n",
    "with open(eval_manager_path + file_name + \".pkl\", 'wb') as f:\n",
    "    pickle.dump(eval_manager, f)"
   ]
  },
  {
   "cell_type": "markdown",
   "metadata": {},
   "source": [
    "## _______________________________________________________________"
   ]
  },
  {
   "cell_type": "code",
   "execution_count": 8,
   "metadata": {},
   "outputs": [
    {
     "name": "stdout",
     "output_type": "stream",
     "text": [
      "Last full run: 30/06/2025, ore 20:33\n"
     ]
    }
   ],
   "source": [
    "import datetime\n",
    "\n",
    "now = datetime.datetime.now()\n",
    "print(\"Last full run:\", now.strftime(\"%d/%m/%Y, ore %H:%M\"))"
   ]
  },
  {
   "cell_type": "code",
   "execution_count": 9,
   "metadata": {},
   "outputs": [],
   "source": [
    "import winsound\n",
    "\n",
    "winsound.Beep(440, 500)\n",
    "winsound.Beep(400, 500)\n",
    "winsound.Beep(440, 500)"
   ]
  },
  {
   "cell_type": "code",
   "execution_count": null,
   "metadata": {},
   "outputs": [],
   "source": []
  },
  {
   "cell_type": "code",
   "execution_count": null,
   "metadata": {},
   "outputs": [],
   "source": []
  },
  {
   "cell_type": "code",
   "execution_count": null,
   "metadata": {},
   "outputs": [],
   "source": []
  },
  {
   "cell_type": "code",
   "execution_count": null,
   "metadata": {},
   "outputs": [],
   "source": [
    "# # Explainer test indices\n",
    "# fold_id = eval_manager._evaluators[0]._explainer.fold_id\n",
    "# print(eval_manager._evaluators[0].dataset.splits[fold_id]['test'])"
   ]
  }
 ],
 "metadata": {
  "kernelspec": {
   "display_name": "GRETEL_2",
   "language": "python",
   "name": "python3"
  },
  "language_info": {
   "codemirror_mode": {
    "name": "ipython",
    "version": 3
   },
   "file_extension": ".py",
   "mimetype": "text/x-python",
   "name": "python",
   "nbconvert_exporter": "python",
   "pygments_lexer": "ipython3",
   "version": "3.9.20"
  }
 },
 "nbformat": 4,
 "nbformat_minor": 2
}
