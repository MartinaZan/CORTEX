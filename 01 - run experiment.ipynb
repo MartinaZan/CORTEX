{
 "cells": [
  {
   "cell_type": "code",
   "execution_count": null,
   "metadata": {},
   "outputs": [],
   "source": [
    "import pickle\n",
    "\n",
    "from src.evaluation.evaluator_manager import EvaluatorManager\n",
    "from src.evaluation.evaluator_manager_do import EvaluatorManager as PairedEvaluatorManager\n",
    "from src.evaluation.evaluator_manager_triplets import EvaluatorManager as TripletsEvaluatorManager\n",
    "from src.utils.context import Context\n",
    "\n",
    "from utils.utils import *"
   ]
  },
  {
   "cell_type": "code",
   "execution_count": 2,
   "metadata": {},
   "outputs": [],
   "source": [
    "# import torch\n",
    "# torch.manual_seed(0)\n",
    "\n",
    "# import random\n",
    "# random.seed(0)\n",
    "\n",
    "# import numpy as np\n",
    "# np.random.seed(0)"
   ]
  },
  {
   "cell_type": "code",
   "execution_count": 4,
   "metadata": {},
   "outputs": [],
   "source": [
    "# Set patient and record (selection based on larger number of observations, more seizure events, and consistent channel configurations)\n",
    "\n",
    "observations = [\"chb01_03\", \"chb01_04\", \"chb01_15\", \"chb01_16\", \"chb01_18\", \"chb01_21\", \"chb01_26\"]\n",
    "# observations = [\"chb03_01\", \"chb03_02\", \"chb03_03\", \"chb03_04\", \"chb03_34\", \"chb03_35\", \"chb03_36\"]\n",
    "# observations = [\"chb10_12\", \"chb10_20\", \"chb10_27\", \"chb10_30\", \"chb10_38\", \"chb10_89\"]\n",
    "\n",
    "# observations = [\"PN00_1\", \"PN00_2\", \"PN00_4\", \"PN00_5\"]\n",
    "# observations = [\"PN06_2\", \"PN06_3\", \"PN06_4\", \"PN06_5\"]\n",
    "# observations = [\"PN14_1\", \"PN14_2\", \"PN14_4\"]\n",
    "\n",
    "create_dataset_json(observations)"
   ]
  },
  {
   "cell_type": "code",
   "execution_count": null,
   "metadata": {},
   "outputs": [],
   "source": [
    "logs_path = \"./output/logs/\"\n",
    "eval_manager_path = \"./output/eval_manager/\""
   ]
  },
  {
   "cell_type": "markdown",
   "metadata": {},
   "source": [
    "#### Removing cache data"
   ]
  },
  {
   "cell_type": "code",
   "execution_count": null,
   "metadata": {},
   "outputs": [],
   "source": [
    "remove_cache = True\n",
    "\n",
    "if remove_cache:\n",
    "    list_folders = [\".\\data\\cache\\datasets\", \".\\data\\cache\\explainers\", \".\\data\\cache\\oracles\"]\n",
    "\n",
    "    for folder in list_folders:\n",
    "        for file in os.listdir(folder):\n",
    "            # Checks if the file begins with \"EEG\"\n",
    "            if file.startswith(\"EEG\"):\n",
    "                cache_path = os.path.join(folder, file)\n",
    "                if os.path.isfile(cache_path):\n",
    "                    os.remove(cache_path)\n",
    "                    print(f\"Removed file: {cache_path}\")\n",
    "                elif os.path.isdir(cache_path):\n",
    "                    shutil.rmtree(cache_path)\n",
    "                    print(f\"Removed folder: {cache_path}\")"
   ]
  },
  {
   "cell_type": "markdown",
   "metadata": {},
   "source": [
    "#### Run Gretel experiment"
   ]
  },
  {
   "cell_type": "code",
   "execution_count": null,
   "metadata": {},
   "outputs": [],
   "source": [
    "path = 'config/EEG-CORR-topk.jsonc'\n",
    "# path = 'config/EEG-CORR-topk-ablation.jsonc'\n",
    "\n",
    "context = Context.get_context(path)\n",
    "context.run_number = -1\n",
    "\n",
    "context.logger.info(f\"Evaluating records: {observations}\")\n",
    "context.logger.info(f\"Executing: {context.config_file} Run: {context.run_number}\")\n",
    "eval_manager = PairedEvaluatorManager(context)\n",
    "\n",
    "eval_manager.evaluate()"
   ]
  },
  {
   "cell_type": "code",
   "execution_count": 11,
   "metadata": {},
   "outputs": [],
   "source": [
    "# Save eval_manager to file\n",
    "file_name = get_most_recent_file(logs_path).split('.')[0]\n",
    "\n",
    "with open(eval_manager_path + file_name + \".pkl\", 'wb') as f:\n",
    "    pickle.dump(eval_manager, f)"
   ]
  }
 ],
 "metadata": {
  "kernelspec": {
   "display_name": "GRETEL_2",
   "language": "python",
   "name": "python3"
  },
  "language_info": {
   "codemirror_mode": {
    "name": "ipython",
    "version": 3
   },
   "file_extension": ".py",
   "mimetype": "text/x-python",
   "name": "python",
   "nbconvert_exporter": "python",
   "pygments_lexer": "ipython3",
   "version": "3.9.20"
  }
 },
 "nbformat": 4,
 "nbformat_minor": 2
}
