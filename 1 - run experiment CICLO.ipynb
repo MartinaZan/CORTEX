{
 "cells": [
  {
   "cell_type": "code",
   "execution_count": 1,
   "metadata": {},
   "outputs": [],
   "source": [
    "import pickle\n",
    "\n",
    "from src.evaluation.evaluator_manager import EvaluatorManager\n",
    "from src.evaluation.evaluator_manager_do import EvaluatorManager as PairedEvaluatorManager\n",
    "from src.evaluation.evaluator_manager_triplets import EvaluatorManager as TripletsEvaluatorManager\n",
    "\n",
    "from src.utils.context import Context\n",
    "\n",
    "from utils_martina.my_utils import *"
   ]
  },
  {
   "cell_type": "code",
   "execution_count": 2,
   "metadata": {},
   "outputs": [],
   "source": [
    "# patient = \"PN14\"\n",
    "# observations = [\"PN14_1\", \"PN14_2\", \"PN14_3\", \"PN14_4\"]\n",
    "\n",
    "patient = \"chb01\"\n",
    "observations = [\"chb01_03\", \"chb01_04\", \"chb01_15\", \"chb01_16\", \"chb01_18\", \"chb01_21\", \"chb01_26\"]"
   ]
  },
  {
   "cell_type": "code",
   "execution_count": null,
   "metadata": {},
   "outputs": [],
   "source": [
    "from routine import *\n",
    "\n",
    "list_lag_nodes = [1]\n",
    "list_num_node_features = [3, 5, 10]\n",
    "\n",
    "for lag_nodes in list_lag_nodes:\n",
    "    print(f\"Distanza {lag_nodes}\")\n",
    "    for num_node_features in list_num_node_features:\n",
    "        print(f\"  Node feature {num_node_features}\")\n",
    "        \n",
    "        routine(patient,lag_nodes,num_node_features,observations)"
   ]
  },
  {
   "cell_type": "code",
   "execution_count": null,
   "metadata": {},
   "outputs": [],
   "source": []
  }
 ],
 "metadata": {
  "kernelspec": {
   "display_name": "GRETEL_2",
   "language": "python",
   "name": "python3"
  },
  "language_info": {
   "codemirror_mode": {
    "name": "ipython",
    "version": 3
   },
   "file_extension": ".py",
   "mimetype": "text/x-python",
   "name": "python",
   "nbconvert_exporter": "python",
   "pygments_lexer": "ipython3",
   "version": "3.9.20"
  }
 },
 "nbformat": 4,
 "nbformat_minor": 2
}
