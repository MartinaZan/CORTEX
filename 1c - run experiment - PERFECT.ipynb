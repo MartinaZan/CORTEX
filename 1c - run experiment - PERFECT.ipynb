{
 "cells": [
  {
   "cell_type": "code",
   "execution_count": 1,
   "metadata": {},
   "outputs": [],
   "source": [
    "import pickle\n",
    "\n",
    "from src.evaluation.evaluator_manager import EvaluatorManager\n",
    "from src.evaluation.evaluator_manager_do import EvaluatorManager as PairedEvaluatorManager\n",
    "from src.evaluation.evaluator_manager_triplets import EvaluatorManager as TripletsEvaluatorManager\n",
    "\n",
    "from src.utils.context import Context\n",
    "\n",
    "from utils_martina.my_utils import *"
   ]
  },
  {
   "cell_type": "code",
   "execution_count": 2,
   "metadata": {},
   "outputs": [],
   "source": [
    "import torch\n",
    "torch.manual_seed(0)\n",
    "\n",
    "import random\n",
    "random.seed(0)\n",
    "\n",
    "import numpy as np\n",
    "np.random.seed(0)"
   ]
  },
  {
   "cell_type": "code",
   "execution_count": 3,
   "metadata": {},
   "outputs": [],
   "source": [
    "# Set patient and record (same channels)\n",
    "\n",
    "# observations = [\"chb04_28\"]\n",
    "# observations = [\"chb01_03\"]\n",
    "# observations = [\"chb01_04\"]\n",
    "# observations = [\"chb01_15\"]\n",
    "# observations = [\"chb01_16\"]\n",
    "# observations = [\"chb01_18\"]\n",
    "# observations = [\"chb01_21\"]\n",
    "observations = [\"chb01_26\"]\n",
    "\n",
    "create_dataset_json(observations)"
   ]
  },
  {
   "cell_type": "code",
   "execution_count": 4,
   "metadata": {},
   "outputs": [],
   "source": [
    "logs_path = \"..\\\\..\\\\explainability\\GRETEL-repo\\\\output\\\\logs\\\\\"\n",
    "eval_manager_path = \"..\\\\..\\\\explainability\\GRETEL-repo\\\\output\\\\eval_manager\\\\\""
   ]
  },
  {
   "cell_type": "markdown",
   "metadata": {},
   "source": [
    "## Removing cache data"
   ]
  },
  {
   "cell_type": "code",
   "execution_count": 5,
   "metadata": {},
   "outputs": [
    {
     "name": "stdout",
     "output_type": "stream",
     "text": [
      "Removed file: .\\data\\cache\\datasets\\GCS-28e49373646e3a1aa4f78d3b3cf52c7d\n",
      "Removed folder: .\\data\\cache\\oracles\\GCS-28e49373646e3a1aa4f78d3b3cf52c7d\n"
     ]
    }
   ],
   "source": [
    "remove_cache = True\n",
    "\n",
    "if remove_cache:\n",
    "    list_folders = [\".\\data\\cache\\datasets\", \".\\data\\cache\\explainers\", \".\\data\\cache\\oracles\"]\n",
    "\n",
    "    for folder in list_folders:\n",
    "        for file in os.listdir(folder):\n",
    "            if file.startswith(\"GCS-\"):  # Checks if the file begins with \"GCS-\"\n",
    "                cache_path = os.path.join(folder, file)\n",
    "                if os.path.isfile(cache_path):\n",
    "                    os.remove(cache_path)\n",
    "                    print(f\"Removed file: {cache_path}\")\n",
    "                elif os.path.isdir(cache_path):\n",
    "                    shutil.rmtree(cache_path)\n",
    "                    print(f\"Removed folder: {cache_path}\")"
   ]
  },
  {
   "cell_type": "markdown",
   "metadata": {},
   "source": [
    "## Run Gretel experiment"
   ]
  },
  {
   "cell_type": "code",
   "execution_count": 6,
   "metadata": {},
   "outputs": [],
   "source": [
    "# NOTICE: If it crashes, check if there are any OracleTorch files from the future!"
   ]
  },
  {
   "cell_type": "code",
   "execution_count": 7,
   "metadata": {},
   "outputs": [
    {
     "name": "stdout",
     "output_type": "stream",
     "text": [
      "['chb01_26']\n",
      "Generating context for: config/GCS-perfect.jsonc\n",
      "2025-05-15 07:50:22,757 | INFO | 22228 - Executing: config/GCS-perfect.jsonc Run: -1\n",
      "2025-05-15 07:50:22,781 | INFO | 22228 - Creating the evaluation manager.......................................................\n",
      "2025-05-15 07:50:22,800 | INFO | 22228 - Creating the PAIRED evaluators...............................................................\n",
      "2025-05-15 07:50:22,877 | INFO | 22228 - Creating: GCS-28e49373646e3a1aa4f78d3b3cf52c7d\n",
      "2025-05-15 07:50:22,877 | INFO | 22228 - Instantiating: src.dataset.generators.gcs.GCS\n",
      "2025-05-15 07:50:24,162 | INFO | 22228 - Saved: GCS-28e49373646e3a1aa4f78d3b3cf52c7d\n",
      "2025-05-15 07:50:24,229 | INFO | 22228 - Created: GCS-28e49373646e3a1aa4f78d3b3cf52c7d\n",
      "2025-05-15 07:50:24,276 | INFO | 22228 - Creating: PerfectOracle-d4ed22792c9a83c39c971ab18176dee9\n",
      "2025-05-15 07:50:24,312 | INFO | 22228 - PerfectOracle trained in: 0.0 secs\n",
      "2025-05-15 07:50:24,366 | INFO | 22228 - Saved: PerfectOracle-d4ed22792c9a83c39c971ab18176dee9\n",
      "2025-05-15 07:50:24,412 | INFO | 22228 - Created: PerfectOracle-d4ed22792c9a83c39c971ab18176dee9\n",
      "2025-05-15 07:50:24,412 | INFO | 22228 - Instantiating: src.evaluation.evaluation_metric_ged.GraphEditDistanceMetric\n",
      "2025-05-15 07:50:24,472 | INFO | 22228 - Created: DCESExplainer-7f7e2134ee1be3e21f572db14715ea1d\n",
      "2025-05-15 07:50:24,514 | INFO | 22228 - Evaluating the explainers.............................................................\n",
      "2025-05-15 07:50:24,516 | INFO | 22228 - Evaluating instance with id 0\n",
      "2025-05-15 07:50:24,584 | INFO | 22228 - evaluated instance with id 0\n",
      "2025-05-15 07:50:24,584 | INFO | 22228 - Evaluating instance with id 10\n",
      "2025-05-15 07:50:24,643 | INFO | 22228 - evaluated instance with id 10\n",
      "2025-05-15 07:50:24,647 | INFO | 22228 - Evaluating instance with id 28\n",
      "2025-05-15 07:50:24,698 | INFO | 22228 - evaluated instance with id 28\n",
      "2025-05-15 07:50:24,698 | INFO | 22228 - Evaluating instance with id 40\n",
      "2025-05-15 07:50:24,749 | INFO | 22228 - evaluated instance with id 40\n",
      "2025-05-15 07:50:24,749 | INFO | 22228 - Evaluating instance with id 54\n",
      "2025-05-15 07:50:24,810 | INFO | 22228 - evaluated instance with id 54\n",
      "2025-05-15 07:50:24,810 | INFO | 22228 - Evaluating instance with id 76\n",
      "2025-05-15 07:50:24,863 | INFO | 22228 - evaluated instance with id 76\n",
      "2025-05-15 07:50:24,866 | INFO | 22228 - Evaluating instance with id 86\n",
      "2025-05-15 07:50:24,929 | INFO | 22228 - evaluated instance with id 86\n",
      "2025-05-15 07:50:24,931 | INFO | 22228 - Evaluating instance with id 94\n",
      "2025-05-15 07:50:25,000 | INFO | 22228 - evaluated instance with id 94\n",
      "2025-05-15 07:50:25,000 | INFO | 22228 - Evaluating instance with id 99\n",
      "2025-05-15 07:50:25,049 | INFO | 22228 - evaluated instance with id 99\n",
      "2025-05-15 07:50:25,049 | INFO | 22228 - Evaluating instance with id 115\n",
      "2025-05-15 07:50:25,116 | INFO | 22228 - evaluated instance with id 115\n",
      "2025-05-15 07:50:25,116 | INFO | 22228 - Evaluating instance with id 117\n",
      "2025-05-15 07:50:25,189 | INFO | 22228 - evaluated instance with id 117\n",
      "2025-05-15 07:50:25,189 | INFO | 22228 - Evaluating instance with id 127\n",
      "2025-05-15 07:50:25,247 | INFO | 22228 - evaluated instance with id 127\n",
      "2025-05-15 07:50:25,247 | INFO | 22228 - Evaluating instance with id 128\n",
      "2025-05-15 07:50:25,297 | INFO | 22228 - evaluated instance with id 128\n",
      "2025-05-15 07:50:25,310 | INFO | 22228 - Evaluating instance with id 130\n",
      "2025-05-15 07:50:25,360 | INFO | 22228 - evaluated instance with id 130\n",
      "2025-05-15 07:50:25,360 | INFO | 22228 - Evaluating instance with id 148\n",
      "2025-05-15 07:50:25,421 | INFO | 22228 - evaluated instance with id 148\n",
      "2025-05-15 07:50:25,426 | INFO | 22228 - Evaluating instance with id 153\n",
      "2025-05-15 07:50:25,484 | INFO | 22228 - evaluated instance with id 153\n",
      "2025-05-15 07:50:25,484 | INFO | 22228 - Evaluating instance with id 163\n",
      "2025-05-15 07:50:25,543 | INFO | 22228 - evaluated instance with id 163\n",
      "2025-05-15 07:50:25,543 | INFO | 22228 - Evaluating instance with id 176\n",
      "2025-05-15 07:50:25,609 | INFO | 22228 - evaluated instance with id 176\n",
      "2025-05-15 07:50:25,609 | INFO | 22228 - Evaluating instance with id 198\n",
      "2025-05-15 07:50:25,672 | INFO | 22228 - evaluated instance with id 198\n",
      "2025-05-15 07:50:25,672 | INFO | 22228 - Evaluating instance with id 206\n",
      "2025-05-15 07:50:25,734 | INFO | 22228 - evaluated instance with id 206\n",
      "2025-05-15 07:50:25,734 | INFO | 22228 - Evaluating instance with id 212\n",
      "2025-05-15 07:50:25,783 | INFO | 22228 - evaluated instance with id 212\n",
      "2025-05-15 07:50:25,784 | INFO | 22228 - Evaluating instance with id 214\n",
      "2025-05-15 07:50:25,842 | INFO | 22228 - evaluated instance with id 214\n",
      "2025-05-15 07:50:25,842 | INFO | 22228 - Evaluating instance with id 220\n",
      "2025-05-15 07:50:25,892 | INFO | 22228 - evaluated instance with id 220\n",
      "2025-05-15 07:50:25,896 | INFO | 22228 - Evaluating instance with id 223\n",
      "2025-05-15 07:50:25,957 | INFO | 22228 - evaluated instance with id 223\n",
      "2025-05-15 07:50:25,959 | INFO | 22228 - Evaluating instance with id 226\n",
      "2025-05-15 07:50:26,026 | INFO | 22228 - evaluated instance with id 226\n",
      "2025-05-15 07:50:26,026 | INFO | 22228 - Evaluating instance with id 243\n",
      "2025-05-15 07:50:26,075 | INFO | 22228 - evaluated instance with id 243\n",
      "2025-05-15 07:50:26,084 | INFO | 22228 - Evaluating instance with id 249\n",
      "2025-05-15 07:50:26,146 | INFO | 22228 - evaluated instance with id 249\n",
      "2025-05-15 07:50:26,146 | INFO | 22228 - Evaluating instance with id 255\n",
      "2025-05-15 07:50:26,192 | INFO | 22228 - evaluated instance with id 255\n",
      "2025-05-15 07:50:26,200 | INFO | 22228 - Evaluating instance with id 257\n",
      "2025-05-15 07:50:26,260 | INFO | 22228 - evaluated instance with id 257\n",
      "2025-05-15 07:50:26,260 | INFO | 22228 - Evaluating instance with id 259\n",
      "2025-05-15 07:50:26,330 | INFO | 22228 - evaluated instance with id 259\n",
      "2025-05-15 07:50:26,330 | INFO | 22228 - Evaluating instance with id 267\n",
      "2025-05-15 07:50:26,383 | INFO | 22228 - evaluated instance with id 267\n",
      "2025-05-15 07:50:26,383 | INFO | 22228 - Evaluating instance with id 274\n",
      "2025-05-15 07:50:26,442 | INFO | 22228 - evaluated instance with id 274\n",
      "2025-05-15 07:50:26,450 | INFO | 22228 - Evaluating instance with id 290\n",
      "2025-05-15 07:50:26,511 | INFO | 22228 - evaluated instance with id 290\n",
      "2025-05-15 07:50:26,513 | INFO | 22228 - Evaluating instance with id 298\n",
      "2025-05-15 07:50:26,570 | INFO | 22228 - evaluated instance with id 298\n",
      "2025-05-15 07:50:26,570 | INFO | 22228 - Evaluating instance with id 300\n",
      "2025-05-15 07:50:26,616 | INFO | 22228 - evaluated instance with id 300\n",
      "2025-05-15 07:50:26,616 | INFO | 22228 - Evaluating instance with id 303\n",
      "2025-05-15 07:50:26,664 | INFO | 22228 - evaluated instance with id 303\n",
      "2025-05-15 07:50:26,667 | INFO | 22228 - Evaluating instance with id 307\n",
      "2025-05-15 07:50:26,712 | INFO | 22228 - evaluated instance with id 307\n",
      "2025-05-15 07:50:26,714 | INFO | 22228 - Evaluating instance with id 308\n",
      "2025-05-15 07:50:26,760 | INFO | 22228 - evaluated instance with id 308\n",
      "2025-05-15 07:50:26,769 | INFO | 22228 - Evaluating instance with id 335\n",
      "2025-05-15 07:50:26,832 | INFO | 22228 - evaluated instance with id 335\n",
      "2025-05-15 07:50:26,832 | INFO | 22228 - Evaluating instance with id 369\n",
      "2025-05-15 07:50:26,876 | INFO | 22228 - evaluated instance with id 369\n",
      "2025-05-15 07:50:26,876 | INFO | 22228 - Evaluating instance with id 394\n",
      "2025-05-15 07:50:26,931 | INFO | 22228 - evaluated instance with id 394\n",
      "2025-05-15 07:50:26,931 | INFO | 22228 - Evaluating instance with id 395\n",
      "2025-05-15 07:50:26,983 | INFO | 22228 - evaluated instance with id 395\n",
      "2025-05-15 07:50:26,983 | INFO | 22228 - Evaluating instance with id 397\n",
      "2025-05-15 07:50:27,027 | INFO | 22228 - evaluated instance with id 397\n",
      "2025-05-15 07:50:27,032 | INFO | 22228 - Evaluating instance with id 414\n",
      "2025-05-15 07:50:27,075 | INFO | 22228 - evaluated instance with id 414\n",
      "2025-05-15 07:50:27,075 | INFO | 22228 - Evaluating instance with id 425\n",
      "2025-05-15 07:50:27,125 | INFO | 22228 - evaluated instance with id 425\n",
      "2025-05-15 07:50:27,125 | INFO | 22228 - Evaluating instance with id 441\n",
      "2025-05-15 07:50:27,167 | INFO | 22228 - evaluated instance with id 441\n",
      "2025-05-15 07:50:27,167 | INFO | 22228 - Evaluating instance with id 465\n",
      "2025-05-15 07:50:27,226 | INFO | 22228 - evaluated instance with id 465\n",
      "2025-05-15 07:50:27,229 | INFO | 22228 - Evaluating instance with id 468\n",
      "2025-05-15 07:50:27,280 | INFO | 22228 - evaluated instance with id 468\n",
      "2025-05-15 07:50:27,280 | INFO | 22228 - Evaluating instance with id 494\n",
      "2025-05-15 07:50:27,325 | INFO | 22228 - evaluated instance with id 494\n",
      "2025-05-15 07:50:27,327 | INFO | 22228 - Evaluating instance with id 504\n",
      "2025-05-15 07:50:27,373 | INFO | 22228 - evaluated instance with id 504\n",
      "2025-05-15 07:50:27,375 | INFO | 22228 - Evaluating instance with id 528\n",
      "2025-05-15 07:50:27,421 | INFO | 22228 - evaluated instance with id 528\n",
      "2025-05-15 07:50:27,421 | INFO | 22228 - Evaluating instance with id 532\n",
      "2025-05-15 07:50:27,469 | INFO | 22228 - evaluated instance with id 532\n",
      "2025-05-15 07:50:27,472 | INFO | 22228 - Evaluating instance with id 537\n",
      "2025-05-15 07:50:27,515 | INFO | 22228 - evaluated instance with id 537\n",
      "2025-05-15 07:50:27,515 | INFO | 22228 - Evaluating instance with id 559\n",
      "2025-05-15 07:50:27,564 | INFO | 22228 - evaluated instance with id 559\n",
      "2025-05-15 07:50:27,564 | INFO | 22228 - Evaluating instance with id 570\n",
      "2025-05-15 07:50:27,616 | INFO | 22228 - evaluated instance with id 570\n",
      "2025-05-15 07:50:27,616 | INFO | 22228 - Evaluating instance with id 574\n",
      "2025-05-15 07:50:27,665 | INFO | 22228 - evaluated instance with id 574\n",
      "2025-05-15 07:50:27,665 | INFO | 22228 - Evaluating instance with id 581\n",
      "2025-05-15 07:50:27,725 | INFO | 22228 - evaluated instance with id 581\n",
      "2025-05-15 07:50:27,725 | INFO | 22228 - Evaluating instance with id 585\n",
      "2025-05-15 07:50:27,791 | INFO | 22228 - evaluated instance with id 585\n",
      "2025-05-15 07:50:27,791 | INFO | 22228 - Evaluating instance with id 597\n",
      "2025-05-15 07:50:27,859 | INFO | 22228 - evaluated instance with id 597\n",
      "2025-05-15 07:50:27,860 | INFO | 22228 - Evaluating instance with id 600\n",
      "2025-05-15 07:50:27,912 | INFO | 22228 - evaluated instance with id 600\n",
      "2025-05-15 07:50:27,912 | INFO | 22228 - Evaluating instance with id 603\n",
      "2025-05-15 07:50:27,966 | INFO | 22228 - evaluated instance with id 603\n",
      "2025-05-15 07:50:27,966 | INFO | 22228 - Evaluating instance with id 626\n",
      "2025-05-15 07:50:28,015 | INFO | 22228 - evaluated instance with id 626\n",
      "2025-05-15 07:50:28,015 | INFO | 22228 - Evaluating instance with id 629\n",
      "2025-05-15 07:50:28,074 | INFO | 22228 - evaluated instance with id 629\n",
      "2025-05-15 07:50:28,074 | INFO | 22228 - Evaluating instance with id 632\n",
      "2025-05-15 07:50:28,133 | INFO | 22228 - evaluated instance with id 632\n",
      "2025-05-15 07:50:28,136 | INFO | 22228 - Evaluating instance with id 633\n",
      "2025-05-15 07:50:28,204 | INFO | 22228 - evaluated instance with id 633\n",
      "2025-05-15 07:50:28,204 | INFO | 22228 - Evaluating instance with id 640\n",
      "2025-05-15 07:50:28,258 | INFO | 22228 - evaluated instance with id 640\n",
      "2025-05-15 07:50:28,258 | INFO | 22228 - Evaluating instance with id 647\n",
      "2025-05-15 07:50:28,319 | INFO | 22228 - evaluated instance with id 647\n",
      "2025-05-15 07:50:28,319 | INFO | 22228 - Evaluating instance with id 648\n",
      "2025-05-15 07:50:28,371 | INFO | 22228 - evaluated instance with id 648\n",
      "2025-05-15 07:50:28,375 | INFO | 22228 - Evaluating instance with id 652\n",
      "2025-05-15 07:50:28,425 | INFO | 22228 - evaluated instance with id 652\n",
      "2025-05-15 07:50:28,425 | INFO | 22228 - Evaluating instance with id 657\n",
      "2025-05-15 07:50:28,481 | INFO | 22228 - evaluated instance with id 657\n",
      "2025-05-15 07:50:28,484 | INFO | 22228 - Evaluating instance with id 670\n",
      "2025-05-15 07:50:28,541 | INFO | 22228 - evaluated instance with id 670\n",
      "2025-05-15 07:50:28,541 | INFO | 22228 - Evaluating instance with id 672\n",
      "2025-05-15 07:50:28,600 | INFO | 22228 - evaluated instance with id 672\n",
      "2025-05-15 07:50:28,603 | INFO | 22228 - Evaluating instance with id 717\n",
      "2025-05-15 07:50:28,662 | INFO | 22228 - evaluated instance with id 717\n",
      "2025-05-15 07:50:28,662 | INFO | 22228 - Evaluating instance with id 723\n",
      "2025-05-15 07:50:28,728 | INFO | 22228 - evaluated instance with id 723\n",
      "2025-05-15 07:50:28,728 | INFO | 22228 - Evaluating instance with id 724\n",
      "2025-05-15 07:50:28,798 | INFO | 22228 - evaluated instance with id 724\n",
      "2025-05-15 07:50:28,798 | INFO | 22228 - Evaluating instance with id 741\n",
      "2025-05-15 07:50:28,874 | INFO | 22228 - evaluated instance with id 741\n",
      "2025-05-15 07:50:28,874 | INFO | 22228 - Evaluating instance with id 756\n",
      "2025-05-15 07:50:28,931 | INFO | 22228 - evaluated instance with id 756\n",
      "2025-05-15 07:50:28,931 | INFO | 22228 - {'src.evaluation.evaluation_metric_runtime.RuntimeMetric': [{'id': '0', 'time': 0, 'record': 'chb01_26', 'value': 0.05654740333557129}, {'id': '10', 'time': 10, 'record': 'chb01_26', 'value': 0.05850100517272949}, {'id': '28', 'time': 28, 'record': 'chb01_26', 'value': 0.05101799964904785}, {'id': '40', 'time': 40, 'record': 'chb01_26', 'value': 0.05100560188293457}, {'id': '54', 'time': 54, 'record': 'chb01_26', 'value': 0.0505976676940918}, {'id': '76', 'time': 76, 'record': 'chb01_26', 'value': 0.051445960998535156}, {'id': '86', 'time': 86, 'record': 'chb01_26', 'value': 0.05118107795715332}, {'id': '94', 'time': 94, 'record': 'chb01_26', 'value': 0.0656590461730957}, {'id': '99', 'time': 99, 'record': 'chb01_26', 'value': 0.048630475997924805}, {'id': '115', 'time': 115, 'record': 'chb01_26', 'value': 0.06679844856262207}, {'id': '117', 'time': 117, 'record': 'chb01_26', 'value': 0.05455803871154785}, {'id': '127', 'time': 127, 'record': 'chb01_26', 'value': 0.05731391906738281}, {'id': '128', 'time': 128, 'record': 'chb01_26', 'value': 0.050035715103149414}, {'id': '130', 'time': 130, 'record': 'chb01_26', 'value': 0.04991006851196289}, {'id': '148', 'time': 148, 'record': 'chb01_26', 'value': 0.061890363693237305}, {'id': '153', 'time': 153, 'record': 'chb01_26', 'value': 0.05782675743103027}, {'id': '163', 'time': 163, 'record': 'chb01_26', 'value': 0.05924415588378906}, {'id': '176', 'time': 176, 'record': 'chb01_26', 'value': 0.06538224220275879}, {'id': '198', 'time': 198, 'record': 'chb01_26', 'value': 0.04997825622558594}, {'id': '206', 'time': 206, 'record': 'chb01_26', 'value': 0.0575108528137207}, {'id': '212', 'time': 212, 'record': 'chb01_26', 'value': 0.047414541244506836}, {'id': '214', 'time': 214, 'record': 'chb01_26', 'value': 0.05704832077026367}, {'id': '220', 'time': 220, 'record': 'chb01_26', 'value': 0.0501558780670166}, {'id': '223', 'time': 223, 'record': 'chb01_26', 'value': 0.05011463165283203}, {'id': '226', 'time': 226, 'record': 'chb01_26', 'value': 0.06405186653137207}, {'id': '243', 'time': 243, 'record': 'chb01_26', 'value': 0.049225807189941406}, {'id': '249', 'time': 249, 'record': 'chb01_26', 'value': 0.058545589447021484}, {'id': '255', 'time': 255, 'record': 'chb01_26', 'value': 0.04228830337524414}, {'id': '257', 'time': 257, 'record': 'chb01_26', 'value': 0.05971074104309082}, {'id': '259', 'time': 259, 'record': 'chb01_26', 'value': 0.06998109817504883}, {'id': '267', 'time': 267, 'record': 'chb01_26', 'value': 0.05380654335021973}, {'id': '274', 'time': 274, 'record': 'chb01_26', 'value': 0.05848336219787598}, {'id': '290', 'time': 290, 'record': 'chb01_26', 'value': 0.05861163139343262}, {'id': '298', 'time': 298, 'record': 'chb01_26', 'value': 0.05050182342529297}, {'id': '300', 'time': 300, 'record': 'chb01_26', 'value': 0.044876813888549805}, {'id': '303', 'time': 303, 'record': 'chb01_26', 'value': 0.047338008880615234}, {'id': '307', 'time': 307, 'record': 'chb01_26', 'value': 0.03884458541870117}, {'id': '308', 'time': 308, 'record': 'chb01_26', 'value': 0.0424809455871582}, {'id': '335', 'time': 335, 'record': 'chb01_26', 'value': 0.06100177764892578}, {'id': '369', 'time': 369, 'record': 'chb01_26', 'value': 0.04444551467895508}, {'id': '394', 'time': 394, 'record': 'chb01_26', 'value': 0.04191446304321289}, {'id': '395', 'time': 395, 'record': 'chb01_26', 'value': 0.04353976249694824}, {'id': '397', 'time': 397, 'record': 'chb01_26', 'value': 0.043695688247680664}, {'id': '414', 'time': 414, 'record': 'chb01_26', 'value': 0.04205465316772461}, {'id': '425', 'time': 425, 'record': 'chb01_26', 'value': 0.048516035079956055}, {'id': '441', 'time': 441, 'record': 'chb01_26', 'value': 0.041921377182006836}, {'id': '465', 'time': 465, 'record': 'chb01_26', 'value': 0.057843685150146484}, {'id': '468', 'time': 468, 'record': 'chb01_26', 'value': 0.04597759246826172}, {'id': '494', 'time': 494, 'record': 'chb01_26', 'value': 0.034868478775024414}, {'id': '504', 'time': 504, 'record': 'chb01_26', 'value': 0.037236928939819336}, {'id': '528', 'time': 528, 'record': 'chb01_26', 'value': 0.03875541687011719}, {'id': '532', 'time': 532, 'record': 'chb01_26', 'value': 0.04639410972595215}, {'id': '537', 'time': 537, 'record': 'chb01_26', 'value': 0.043288469314575195}, {'id': '559', 'time': 559, 'record': 'chb01_26', 'value': 0.04895496368408203}, {'id': '570', 'time': 570, 'record': 'chb01_26', 'value': 0.04315590858459473}, {'id': '574', 'time': 574, 'record': 'chb01_26', 'value': 0.04153275489807129}, {'id': '581', 'time': 581, 'record': 'chb01_26', 'value': 0.05096244812011719}, {'id': '585', 'time': 585, 'record': 'chb01_26', 'value': 0.05823373794555664}, {'id': '597', 'time': 597, 'record': 'chb01_26', 'value': 0.0577242374420166}, {'id': '600', 'time': 600, 'record': 'chb01_26', 'value': 0.04906487464904785}, {'id': '603', 'time': 603, 'record': 'chb01_26', 'value': 0.045584678649902344}, {'id': '626', 'time': 626, 'record': 'chb01_26', 'value': 0.04852032661437988}, {'id': '629', 'time': 629, 'record': 'chb01_26', 'value': 0.04948139190673828}, {'id': '632', 'time': 632, 'record': 'chb01_26', 'value': 0.0549163818359375}, {'id': '633', 'time': 633, 'record': 'chb01_26', 'value': 0.05802273750305176}, {'id': '640', 'time': 640, 'record': 'chb01_26', 'value': 0.05001187324523926}, {'id': '647', 'time': 647, 'record': 'chb01_26', 'value': 0.05906558036804199}, {'id': '648', 'time': 648, 'record': 'chb01_26', 'value': 0.04971647262573242}, {'id': '652', 'time': 652, 'record': 'chb01_26', 'value': 0.04703855514526367}, {'id': '657', 'time': 657, 'record': 'chb01_26', 'value': 0.05270957946777344}, {'id': '670', 'time': 670, 'record': 'chb01_26', 'value': 0.056169748306274414}, {'id': '672', 'time': 672, 'record': 'chb01_26', 'value': 0.048754215240478516}, {'id': '717', 'time': 717, 'record': 'chb01_26', 'value': 0.05898475646972656}, {'id': '723', 'time': 723, 'record': 'chb01_26', 'value': 0.06363725662231445}, {'id': '724', 'time': 724, 'record': 'chb01_26', 'value': 0.06986498832702637}, {'id': '741', 'time': 741, 'record': 'chb01_26', 'value': 0.07565140724182129}, {'id': '756', 'time': 756, 'record': 'chb01_26', 'value': 0.04224205017089844}], 'src.evaluation.evaluation_metric_ged.GraphEditDistanceMetric': [{'id': '0', 'value': 34.0}, {'id': '10', 'value': 48.0}, {'id': '28', 'value': 46.0}, {'id': '40', 'value': 42.0}, {'id': '54', 'value': 32.0}, {'id': '76', 'value': 40.0}, {'id': '86', 'value': 40.0}, {'id': '94', 'value': 32.0}, {'id': '99', 'value': 36.0}, {'id': '115', 'value': 34.0}, {'id': '117', 'value': 46.0}, {'id': '127', 'value': 36.0}, {'id': '128', 'value': 36.0}, {'id': '130', 'value': 36.0}, {'id': '148', 'value': 50.0}, {'id': '153', 'value': 42.0}, {'id': '163', 'value': 36.0}, {'id': '176', 'value': 40.0}, {'id': '198', 'value': 40.0}, {'id': '206', 'value': 36.0}, {'id': '212', 'value': 30.0}, {'id': '214', 'value': 32.0}, {'id': '220', 'value': 32.0}, {'id': '223', 'value': 34.0}, {'id': '226', 'value': 34.0}, {'id': '243', 'value': 38.0}, {'id': '249', 'value': 36.0}, {'id': '255', 'value': 36.0}, {'id': '257', 'value': 36.0}, {'id': '259', 'value': 34.0}, {'id': '267', 'value': 28.0}, {'id': '274', 'value': 30.0}, {'id': '290', 'value': 34.0}, {'id': '298', 'value': 30.0}, {'id': '300', 'value': 32.0}, {'id': '303', 'value': 32.0}, {'id': '307', 'value': 34.0}, {'id': '308', 'value': 34.0}, {'id': '335', 'value': 44.0}, {'id': '369', 'value': 40.0}, {'id': '394', 'value': 34.0}, {'id': '395', 'value': 34.0}, {'id': '397', 'value': 34.0}, {'id': '414', 'value': 38.0}, {'id': '425', 'value': 38.0}, {'id': '441', 'value': 38.0}, {'id': '465', 'value': 40.0}, {'id': '468', 'value': 38.0}, {'id': '494', 'value': 36.0}, {'id': '504', 'value': 36.0}, {'id': '528', 'value': 42.0}, {'id': '532', 'value': 44.0}, {'id': '537', 'value': 44.0}, {'id': '559', 'value': 38.0}, {'id': '570', 'value': 42.0}, {'id': '574', 'value': 42.0}, {'id': '581', 'value': 38.0}, {'id': '585', 'value': 38.0}, {'id': '597', 'value': 40.0}, {'id': '600', 'value': 42.0}, {'id': '603', 'value': 40.0}, {'id': '626', 'value': 40.0}, {'id': '629', 'value': 36.0}, {'id': '632', 'value': 34.0}, {'id': '633', 'value': 30.0}, {'id': '640', 'value': 44.0}, {'id': '647', 'value': 40.0}, {'id': '648', 'value': 38.0}, {'id': '652', 'value': 42.0}, {'id': '657', 'value': 40.0}, {'id': '670', 'value': 36.0}, {'id': '672', 'value': 38.0}, {'id': '717', 'value': 44.0}, {'id': '723', 'value': 44.0}, {'id': '724', 'value': 42.0}, {'id': '741', 'value': 40.0}, {'id': '756', 'value': 50.0}], 'src.evaluation.evaluation_metric_oracle_calls.OracleCallsMetric': [{'id': '0', 'value': 765}, {'id': '10', 'value': 765}, {'id': '28', 'value': 765}, {'id': '40', 'value': 765}, {'id': '54', 'value': 765}, {'id': '76', 'value': 765}, {'id': '86', 'value': 765}, {'id': '94', 'value': 765}, {'id': '99', 'value': 765}, {'id': '115', 'value': 765}, {'id': '117', 'value': 765}, {'id': '127', 'value': 765}, {'id': '128', 'value': 765}, {'id': '130', 'value': 765}, {'id': '148', 'value': 765}, {'id': '153', 'value': 765}, {'id': '163', 'value': 765}, {'id': '176', 'value': 765}, {'id': '198', 'value': 765}, {'id': '206', 'value': 765}, {'id': '212', 'value': 765}, {'id': '214', 'value': 765}, {'id': '220', 'value': 765}, {'id': '223', 'value': 765}, {'id': '226', 'value': 765}, {'id': '243', 'value': 765}, {'id': '249', 'value': 765}, {'id': '255', 'value': 765}, {'id': '257', 'value': 765}, {'id': '259', 'value': 765}, {'id': '267', 'value': 765}, {'id': '274', 'value': 765}, {'id': '290', 'value': 765}, {'id': '298', 'value': 765}, {'id': '300', 'value': 765}, {'id': '303', 'value': 765}, {'id': '307', 'value': 765}, {'id': '308', 'value': 765}, {'id': '335', 'value': 765}, {'id': '369', 'value': 765}, {'id': '394', 'value': 765}, {'id': '395', 'value': 765}, {'id': '397', 'value': 765}, {'id': '414', 'value': 765}, {'id': '425', 'value': 765}, {'id': '441', 'value': 765}, {'id': '465', 'value': 765}, {'id': '468', 'value': 765}, {'id': '494', 'value': 765}, {'id': '504', 'value': 765}, {'id': '528', 'value': 765}, {'id': '532', 'value': 765}, {'id': '537', 'value': 765}, {'id': '559', 'value': 765}, {'id': '570', 'value': 765}, {'id': '574', 'value': 765}, {'id': '581', 'value': 765}, {'id': '585', 'value': 765}, {'id': '597', 'value': 765}, {'id': '600', 'value': 765}, {'id': '603', 'value': 765}, {'id': '626', 'value': 765}, {'id': '629', 'value': 765}, {'id': '632', 'value': 765}, {'id': '633', 'value': 765}, {'id': '640', 'value': 765}, {'id': '647', 'value': 765}, {'id': '648', 'value': 765}, {'id': '652', 'value': 765}, {'id': '657', 'value': 765}, {'id': '670', 'value': 765}, {'id': '672', 'value': 765}, {'id': '717', 'value': 765}, {'id': '723', 'value': 765}, {'id': '724', 'value': 765}, {'id': '741', 'value': 765}, {'id': '756', 'value': 765}], 'src.evaluation.evaluation_metric_correctness.CorrectnessMetric': [{'id': '0', 'value': 1}, {'id': '10', 'value': 1}, {'id': '28', 'value': 1}, {'id': '40', 'value': 1}, {'id': '54', 'value': 1}, {'id': '76', 'value': 1}, {'id': '86', 'value': 1}, {'id': '94', 'value': 1}, {'id': '99', 'value': 1}, {'id': '115', 'value': 1}, {'id': '117', 'value': 1}, {'id': '127', 'value': 1}, {'id': '128', 'value': 1}, {'id': '130', 'value': 1}, {'id': '148', 'value': 1}, {'id': '153', 'value': 1}, {'id': '163', 'value': 1}, {'id': '176', 'value': 1}, {'id': '198', 'value': 1}, {'id': '206', 'value': 1}, {'id': '212', 'value': 1}, {'id': '214', 'value': 1}, {'id': '220', 'value': 1}, {'id': '223', 'value': 1}, {'id': '226', 'value': 1}, {'id': '243', 'value': 1}, {'id': '249', 'value': 1}, {'id': '255', 'value': 1}, {'id': '257', 'value': 1}, {'id': '259', 'value': 1}, {'id': '267', 'value': 1}, {'id': '274', 'value': 1}, {'id': '290', 'value': 1}, {'id': '298', 'value': 1}, {'id': '300', 'value': 1}, {'id': '303', 'value': 1}, {'id': '307', 'value': 1}, {'id': '308', 'value': 1}, {'id': '335', 'value': 1}, {'id': '369', 'value': 1}, {'id': '394', 'value': 1}, {'id': '395', 'value': 1}, {'id': '397', 'value': 1}, {'id': '414', 'value': 1}, {'id': '425', 'value': 1}, {'id': '441', 'value': 1}, {'id': '465', 'value': 1}, {'id': '468', 'value': 1}, {'id': '494', 'value': 1}, {'id': '504', 'value': 1}, {'id': '528', 'value': 1}, {'id': '532', 'value': 1}, {'id': '537', 'value': 1}, {'id': '559', 'value': 1}, {'id': '570', 'value': 1}, {'id': '574', 'value': 1}, {'id': '581', 'value': 1}, {'id': '585', 'value': 1}, {'id': '597', 'value': 1}, {'id': '600', 'value': 1}, {'id': '603', 'value': 1}, {'id': '626', 'value': 1}, {'id': '629', 'value': 1}, {'id': '632', 'value': 1}, {'id': '633', 'value': 1}, {'id': '640', 'value': 1}, {'id': '647', 'value': 1}, {'id': '648', 'value': 1}, {'id': '652', 'value': 1}, {'id': '657', 'value': 1}, {'id': '670', 'value': 1}, {'id': '672', 'value': 1}, {'id': '717', 'value': 1}, {'id': '723', 'value': 1}, {'id': '724', 'value': 1}, {'id': '741', 'value': 1}, {'id': '756', 'value': 1}], 'src.evaluation.evaluation_metric_sparsity.SparsityMetric': [{'id': '0', 'value': 0.44155844155844154}, {'id': '10', 'value': 0.6233766233766234}, {'id': '28', 'value': 0.5974025974025974}, {'id': '40', 'value': 0.5454545454545454}, {'id': '54', 'value': 0.4155844155844156}, {'id': '76', 'value': 0.5194805194805194}, {'id': '86', 'value': 0.5194805194805194}, {'id': '94', 'value': 0.4155844155844156}, {'id': '99', 'value': 0.4675324675324675}, {'id': '115', 'value': 0.44155844155844154}, {'id': '117', 'value': 0.5974025974025974}, {'id': '127', 'value': 0.4675324675324675}, {'id': '128', 'value': 0.4675324675324675}, {'id': '130', 'value': 0.4675324675324675}, {'id': '148', 'value': 0.6493506493506493}, {'id': '153', 'value': 0.5454545454545454}, {'id': '163', 'value': 0.4675324675324675}, {'id': '176', 'value': 0.5194805194805194}, {'id': '198', 'value': 0.5194805194805194}, {'id': '206', 'value': 0.4675324675324675}, {'id': '212', 'value': 0.38961038961038963}, {'id': '214', 'value': 0.4155844155844156}, {'id': '220', 'value': 0.4155844155844156}, {'id': '223', 'value': 0.44155844155844154}, {'id': '226', 'value': 0.44155844155844154}, {'id': '243', 'value': 0.4935064935064935}, {'id': '249', 'value': 0.4675324675324675}, {'id': '255', 'value': 0.4675324675324675}, {'id': '257', 'value': 0.4675324675324675}, {'id': '259', 'value': 0.44155844155844154}, {'id': '267', 'value': 0.36363636363636365}, {'id': '274', 'value': 0.38961038961038963}, {'id': '290', 'value': 0.44155844155844154}, {'id': '298', 'value': 0.38961038961038963}, {'id': '300', 'value': 0.4155844155844156}, {'id': '303', 'value': 0.4155844155844156}, {'id': '307', 'value': 0.44155844155844154}, {'id': '308', 'value': 0.44155844155844154}, {'id': '335', 'value': 0.5714285714285714}, {'id': '369', 'value': 0.5194805194805194}, {'id': '394', 'value': 0.44155844155844154}, {'id': '395', 'value': 0.44155844155844154}, {'id': '397', 'value': 0.44155844155844154}, {'id': '414', 'value': 0.4935064935064935}, {'id': '425', 'value': 0.4935064935064935}, {'id': '441', 'value': 0.4935064935064935}, {'id': '465', 'value': 0.5194805194805194}, {'id': '468', 'value': 0.4935064935064935}, {'id': '494', 'value': 0.4675324675324675}, {'id': '504', 'value': 0.4675324675324675}, {'id': '528', 'value': 0.5454545454545454}, {'id': '532', 'value': 0.5714285714285714}, {'id': '537', 'value': 0.5714285714285714}, {'id': '559', 'value': 0.4935064935064935}, {'id': '570', 'value': 0.5454545454545454}, {'id': '574', 'value': 0.5454545454545454}, {'id': '581', 'value': 0.4935064935064935}, {'id': '585', 'value': 0.4935064935064935}, {'id': '597', 'value': 0.5194805194805194}, {'id': '600', 'value': 0.5454545454545454}, {'id': '603', 'value': 0.5194805194805194}, {'id': '626', 'value': 0.5194805194805194}, {'id': '629', 'value': 0.4675324675324675}, {'id': '632', 'value': 0.44155844155844154}, {'id': '633', 'value': 0.38961038961038963}, {'id': '640', 'value': 0.5714285714285714}, {'id': '647', 'value': 0.5194805194805194}, {'id': '648', 'value': 0.4935064935064935}, {'id': '652', 'value': 0.5454545454545454}, {'id': '657', 'value': 0.5194805194805194}, {'id': '670', 'value': 0.4675324675324675}, {'id': '672', 'value': 0.4935064935064935}, {'id': '717', 'value': 0.5714285714285714}, {'id': '723', 'value': 0.5714285714285714}, {'id': '724', 'value': 0.5454545454545454}, {'id': '741', 'value': 0.5194805194805194}, {'id': '756', 'value': 0.6493506493506493}], 'src.evaluation.evaluation_metric_fidelity.FidelityMetric': [{'id': '0', 'value': 1}, {'id': '10', 'value': 1}, {'id': '28', 'value': 1}, {'id': '40', 'value': 1}, {'id': '54', 'value': 1}, {'id': '76', 'value': 1}, {'id': '86', 'value': 1}, {'id': '94', 'value': 1}, {'id': '99', 'value': 1}, {'id': '115', 'value': 1}, {'id': '117', 'value': 1}, {'id': '127', 'value': 1}, {'id': '128', 'value': 1}, {'id': '130', 'value': 1}, {'id': '148', 'value': 1}, {'id': '153', 'value': 1}, {'id': '163', 'value': 1}, {'id': '176', 'value': 1}, {'id': '198', 'value': 1}, {'id': '206', 'value': 1}, {'id': '212', 'value': 1}, {'id': '214', 'value': 1}, {'id': '220', 'value': 1}, {'id': '223', 'value': 1}, {'id': '226', 'value': 1}, {'id': '243', 'value': 1}, {'id': '249', 'value': 1}, {'id': '255', 'value': 1}, {'id': '257', 'value': 1}, {'id': '259', 'value': 1}, {'id': '267', 'value': 1}, {'id': '274', 'value': 1}, {'id': '290', 'value': 1}, {'id': '298', 'value': 1}, {'id': '300', 'value': 1}, {'id': '303', 'value': 1}, {'id': '307', 'value': 1}, {'id': '308', 'value': 1}, {'id': '335', 'value': 1}, {'id': '369', 'value': 1}, {'id': '394', 'value': 1}, {'id': '395', 'value': 1}, {'id': '397', 'value': 1}, {'id': '414', 'value': 1}, {'id': '425', 'value': 1}, {'id': '441', 'value': 1}, {'id': '465', 'value': 1}, {'id': '468', 'value': 1}, {'id': '494', 'value': 1}, {'id': '504', 'value': 1}, {'id': '528', 'value': 1}, {'id': '532', 'value': 1}, {'id': '537', 'value': 1}, {'id': '559', 'value': 1}, {'id': '570', 'value': 1}, {'id': '574', 'value': 1}, {'id': '581', 'value': 1}, {'id': '585', 'value': 1}, {'id': '597', 'value': 1}, {'id': '600', 'value': 1}, {'id': '603', 'value': 1}, {'id': '626', 'value': 1}, {'id': '629', 'value': 1}, {'id': '632', 'value': 1}, {'id': '633', 'value': 1}, {'id': '640', 'value': 1}, {'id': '647', 'value': 1}, {'id': '648', 'value': 1}, {'id': '652', 'value': 1}, {'id': '657', 'value': 1}, {'id': '670', 'value': 1}, {'id': '672', 'value': 1}, {'id': '717', 'value': 1}, {'id': '723', 'value': 1}, {'id': '724', 'value': 1}, {'id': '741', 'value': 1}, {'id': '756', 'value': 1}], 'src.evaluation.evaluation_metric_oracle_accuracy.OracleAccuracyMetric': [{'id': '0', 'value': 1}, {'id': '10', 'value': 1}, {'id': '28', 'value': 1}, {'id': '40', 'value': 1}, {'id': '54', 'value': 1}, {'id': '76', 'value': 1}, {'id': '86', 'value': 1}, {'id': '94', 'value': 1}, {'id': '99', 'value': 1}, {'id': '115', 'value': 1}, {'id': '117', 'value': 1}, {'id': '127', 'value': 1}, {'id': '128', 'value': 1}, {'id': '130', 'value': 1}, {'id': '148', 'value': 1}, {'id': '153', 'value': 1}, {'id': '163', 'value': 1}, {'id': '176', 'value': 1}, {'id': '198', 'value': 1}, {'id': '206', 'value': 1}, {'id': '212', 'value': 1}, {'id': '214', 'value': 1}, {'id': '220', 'value': 1}, {'id': '223', 'value': 1}, {'id': '226', 'value': 1}, {'id': '243', 'value': 1}, {'id': '249', 'value': 1}, {'id': '255', 'value': 1}, {'id': '257', 'value': 1}, {'id': '259', 'value': 1}, {'id': '267', 'value': 1}, {'id': '274', 'value': 1}, {'id': '290', 'value': 1}, {'id': '298', 'value': 1}, {'id': '300', 'value': 1}, {'id': '303', 'value': 1}, {'id': '307', 'value': 1}, {'id': '308', 'value': 1}, {'id': '335', 'value': 1}, {'id': '369', 'value': 1}, {'id': '394', 'value': 1}, {'id': '395', 'value': 1}, {'id': '397', 'value': 1}, {'id': '414', 'value': 1}, {'id': '425', 'value': 1}, {'id': '441', 'value': 1}, {'id': '465', 'value': 1}, {'id': '468', 'value': 1}, {'id': '494', 'value': 1}, {'id': '504', 'value': 1}, {'id': '528', 'value': 1}, {'id': '532', 'value': 1}, {'id': '537', 'value': 1}, {'id': '559', 'value': 1}, {'id': '570', 'value': 1}, {'id': '574', 'value': 1}, {'id': '581', 'value': 1}, {'id': '585', 'value': 1}, {'id': '597', 'value': 1}, {'id': '600', 'value': 1}, {'id': '603', 'value': 1}, {'id': '626', 'value': 1}, {'id': '629', 'value': 1}, {'id': '632', 'value': 1}, {'id': '633', 'value': 1}, {'id': '640', 'value': 1}, {'id': '647', 'value': 1}, {'id': '648', 'value': 1}, {'id': '652', 'value': 1}, {'id': '657', 'value': 1}, {'id': '670', 'value': 1}, {'id': '672', 'value': 1}, {'id': '717', 'value': 1}, {'id': '723', 'value': 1}, {'id': '724', 'value': 1}, {'id': '741', 'value': 1}, {'id': '756', 'value': 1}], 'src.evaluation.embedding_metrics.EmbeddingMetric': [{'id': '0', 'value': 0}, {'id': '10', 'value': 0}, {'id': '28', 'value': 0}, {'id': '40', 'value': 0}, {'id': '54', 'value': 0}, {'id': '76', 'value': 0}, {'id': '86', 'value': 0}, {'id': '94', 'value': 0}, {'id': '99', 'value': 0}, {'id': '115', 'value': 0}, {'id': '117', 'value': 0}, {'id': '127', 'value': 0}, {'id': '128', 'value': 0}, {'id': '130', 'value': 0}, {'id': '148', 'value': 0}, {'id': '153', 'value': 0}, {'id': '163', 'value': 0}, {'id': '176', 'value': 0}, {'id': '198', 'value': 0}, {'id': '206', 'value': 0}, {'id': '212', 'value': 0}, {'id': '214', 'value': 0}, {'id': '220', 'value': 0}, {'id': '223', 'value': 0}, {'id': '226', 'value': 0}, {'id': '243', 'value': 0}, {'id': '249', 'value': 0}, {'id': '255', 'value': 0}, {'id': '257', 'value': 0}, {'id': '259', 'value': 0}, {'id': '267', 'value': 0}, {'id': '274', 'value': 0}, {'id': '290', 'value': 0}, {'id': '298', 'value': 0}, {'id': '300', 'value': 0}, {'id': '303', 'value': 0}, {'id': '307', 'value': 0}, {'id': '308', 'value': 0}, {'id': '335', 'value': 0}, {'id': '369', 'value': 0}, {'id': '394', 'value': 0}, {'id': '395', 'value': 0}, {'id': '397', 'value': 0}, {'id': '414', 'value': 0}, {'id': '425', 'value': 0}, {'id': '441', 'value': 0}, {'id': '465', 'value': 0}, {'id': '468', 'value': 0}, {'id': '494', 'value': 0}, {'id': '504', 'value': 0}, {'id': '528', 'value': 0}, {'id': '532', 'value': 0}, {'id': '537', 'value': 0}, {'id': '559', 'value': 0}, {'id': '570', 'value': 0}, {'id': '574', 'value': 0}, {'id': '581', 'value': 0}, {'id': '585', 'value': 0}, {'id': '597', 'value': 0}, {'id': '600', 'value': 0}, {'id': '603', 'value': 0}, {'id': '626', 'value': 0}, {'id': '629', 'value': 0}, {'id': '632', 'value': 0}, {'id': '633', 'value': 0}, {'id': '640', 'value': 0}, {'id': '647', 'value': 0}, {'id': '648', 'value': 0}, {'id': '652', 'value': 0}, {'id': '657', 'value': 0}, {'id': '670', 'value': 0}, {'id': '672', 'value': 0}, {'id': '717', 'value': 0}, {'id': '723', 'value': 0}, {'id': '724', 'value': 0}, {'id': '741', 'value': 0}, {'id': '756', 'value': 0}]}\n",
      "--------------------------------------\n",
      "2025-05-15 07:50:29,091 | INFO | 22228 - graph_metrics: [{'instance_id': 0, 'instance_time': 0, 'instance_record': 'chb01_26', 'density_instance': 0.26666666666666666, 'density_counterfactual': 0.26666666666666666}, {'instance_id': 10, 'instance_time': 10, 'instance_record': 'chb01_26', 'density_instance': 0.26666666666666666, 'density_counterfactual': 0.26666666666666666}, {'instance_id': 28, 'instance_time': 28, 'instance_record': 'chb01_26', 'density_instance': 0.26666666666666666, 'density_counterfactual': 0.26666666666666666}, {'instance_id': 40, 'instance_time': 40, 'instance_record': 'chb01_26', 'density_instance': 0.26666666666666666, 'density_counterfactual': 0.26666666666666666}, {'instance_id': 54, 'instance_time': 54, 'instance_record': 'chb01_26', 'density_instance': 0.26666666666666666, 'density_counterfactual': 0.26666666666666666}, {'instance_id': 76, 'instance_time': 76, 'instance_record': 'chb01_26', 'density_instance': 0.26666666666666666, 'density_counterfactual': 0.26666666666666666}, {'instance_id': 86, 'instance_time': 86, 'instance_record': 'chb01_26', 'density_instance': 0.26666666666666666, 'density_counterfactual': 0.26666666666666666}, {'instance_id': 94, 'instance_time': 94, 'instance_record': 'chb01_26', 'density_instance': 0.26666666666666666, 'density_counterfactual': 0.26666666666666666}, {'instance_id': 99, 'instance_time': 99, 'instance_record': 'chb01_26', 'density_instance': 0.26666666666666666, 'density_counterfactual': 0.26666666666666666}, {'instance_id': 115, 'instance_time': 115, 'instance_record': 'chb01_26', 'density_instance': 0.26666666666666666, 'density_counterfactual': 0.26666666666666666}, {'instance_id': 117, 'instance_time': 117, 'instance_record': 'chb01_26', 'density_instance': 0.26666666666666666, 'density_counterfactual': 0.26666666666666666}, {'instance_id': 127, 'instance_time': 127, 'instance_record': 'chb01_26', 'density_instance': 0.26666666666666666, 'density_counterfactual': 0.26666666666666666}, {'instance_id': 128, 'instance_time': 128, 'instance_record': 'chb01_26', 'density_instance': 0.26666666666666666, 'density_counterfactual': 0.26666666666666666}, {'instance_id': 130, 'instance_time': 130, 'instance_record': 'chb01_26', 'density_instance': 0.26666666666666666, 'density_counterfactual': 0.26666666666666666}, {'instance_id': 148, 'instance_time': 148, 'instance_record': 'chb01_26', 'density_instance': 0.26666666666666666, 'density_counterfactual': 0.26666666666666666}, {'instance_id': 153, 'instance_time': 153, 'instance_record': 'chb01_26', 'density_instance': 0.26666666666666666, 'density_counterfactual': 0.26666666666666666}, {'instance_id': 163, 'instance_time': 163, 'instance_record': 'chb01_26', 'density_instance': 0.26666666666666666, 'density_counterfactual': 0.26666666666666666}, {'instance_id': 176, 'instance_time': 176, 'instance_record': 'chb01_26', 'density_instance': 0.26666666666666666, 'density_counterfactual': 0.26666666666666666}, {'instance_id': 198, 'instance_time': 198, 'instance_record': 'chb01_26', 'density_instance': 0.26666666666666666, 'density_counterfactual': 0.26666666666666666}, {'instance_id': 206, 'instance_time': 206, 'instance_record': 'chb01_26', 'density_instance': 0.26666666666666666, 'density_counterfactual': 0.26666666666666666}, {'instance_id': 212, 'instance_time': 212, 'instance_record': 'chb01_26', 'density_instance': 0.26666666666666666, 'density_counterfactual': 0.26666666666666666}, {'instance_id': 214, 'instance_time': 214, 'instance_record': 'chb01_26', 'density_instance': 0.26666666666666666, 'density_counterfactual': 0.26666666666666666}, {'instance_id': 220, 'instance_time': 220, 'instance_record': 'chb01_26', 'density_instance': 0.26666666666666666, 'density_counterfactual': 0.26666666666666666}, {'instance_id': 223, 'instance_time': 223, 'instance_record': 'chb01_26', 'density_instance': 0.26666666666666666, 'density_counterfactual': 0.26666666666666666}, {'instance_id': 226, 'instance_time': 226, 'instance_record': 'chb01_26', 'density_instance': 0.26666666666666666, 'density_counterfactual': 0.26666666666666666}, {'instance_id': 243, 'instance_time': 243, 'instance_record': 'chb01_26', 'density_instance': 0.26666666666666666, 'density_counterfactual': 0.26666666666666666}, {'instance_id': 249, 'instance_time': 249, 'instance_record': 'chb01_26', 'density_instance': 0.26666666666666666, 'density_counterfactual': 0.26666666666666666}, {'instance_id': 255, 'instance_time': 255, 'instance_record': 'chb01_26', 'density_instance': 0.26666666666666666, 'density_counterfactual': 0.26666666666666666}, {'instance_id': 257, 'instance_time': 257, 'instance_record': 'chb01_26', 'density_instance': 0.26666666666666666, 'density_counterfactual': 0.26666666666666666}, {'instance_id': 259, 'instance_time': 259, 'instance_record': 'chb01_26', 'density_instance': 0.26666666666666666, 'density_counterfactual': 0.26666666666666666}, {'instance_id': 267, 'instance_time': 267, 'instance_record': 'chb01_26', 'density_instance': 0.26666666666666666, 'density_counterfactual': 0.26666666666666666}, {'instance_id': 274, 'instance_time': 274, 'instance_record': 'chb01_26', 'density_instance': 0.26666666666666666, 'density_counterfactual': 0.26666666666666666}, {'instance_id': 290, 'instance_time': 290, 'instance_record': 'chb01_26', 'density_instance': 0.26666666666666666, 'density_counterfactual': 0.26666666666666666}, {'instance_id': 298, 'instance_time': 298, 'instance_record': 'chb01_26', 'density_instance': 0.26666666666666666, 'density_counterfactual': 0.26666666666666666}, {'instance_id': 300, 'instance_time': 300, 'instance_record': 'chb01_26', 'density_instance': 0.26666666666666666, 'density_counterfactual': 0.26666666666666666}, {'instance_id': 303, 'instance_time': 303, 'instance_record': 'chb01_26', 'density_instance': 0.26666666666666666, 'density_counterfactual': 0.26666666666666666}, {'instance_id': 307, 'instance_time': 307, 'instance_record': 'chb01_26', 'density_instance': 0.26666666666666666, 'density_counterfactual': 0.26666666666666666}, {'instance_id': 308, 'instance_time': 308, 'instance_record': 'chb01_26', 'density_instance': 0.26666666666666666, 'density_counterfactual': 0.26666666666666666}, {'instance_id': 335, 'instance_time': 335, 'instance_record': 'chb01_26', 'density_instance': 0.26666666666666666, 'density_counterfactual': 0.26666666666666666}, {'instance_id': 369, 'instance_time': 369, 'instance_record': 'chb01_26', 'density_instance': 0.26666666666666666, 'density_counterfactual': 0.26666666666666666}, {'instance_id': 394, 'instance_time': 394, 'instance_record': 'chb01_26', 'density_instance': 0.26666666666666666, 'density_counterfactual': 0.26666666666666666}, {'instance_id': 395, 'instance_time': 395, 'instance_record': 'chb01_26', 'density_instance': 0.26666666666666666, 'density_counterfactual': 0.26666666666666666}, {'instance_id': 397, 'instance_time': 397, 'instance_record': 'chb01_26', 'density_instance': 0.26666666666666666, 'density_counterfactual': 0.26666666666666666}, {'instance_id': 414, 'instance_time': 414, 'instance_record': 'chb01_26', 'density_instance': 0.26666666666666666, 'density_counterfactual': 0.26666666666666666}, {'instance_id': 425, 'instance_time': 425, 'instance_record': 'chb01_26', 'density_instance': 0.26666666666666666, 'density_counterfactual': 0.26666666666666666}, {'instance_id': 441, 'instance_time': 441, 'instance_record': 'chb01_26', 'density_instance': 0.26666666666666666, 'density_counterfactual': 0.26666666666666666}, {'instance_id': 465, 'instance_time': 465, 'instance_record': 'chb01_26', 'density_instance': 0.26666666666666666, 'density_counterfactual': 0.26666666666666666}, {'instance_id': 468, 'instance_time': 468, 'instance_record': 'chb01_26', 'density_instance': 0.26666666666666666, 'density_counterfactual': 0.26666666666666666}, {'instance_id': 494, 'instance_time': 494, 'instance_record': 'chb01_26', 'density_instance': 0.26666666666666666, 'density_counterfactual': 0.26666666666666666}, {'instance_id': 504, 'instance_time': 504, 'instance_record': 'chb01_26', 'density_instance': 0.26666666666666666, 'density_counterfactual': 0.26666666666666666}, {'instance_id': 528, 'instance_time': 528, 'instance_record': 'chb01_26', 'density_instance': 0.26666666666666666, 'density_counterfactual': 0.26666666666666666}, {'instance_id': 532, 'instance_time': 532, 'instance_record': 'chb01_26', 'density_instance': 0.26666666666666666, 'density_counterfactual': 0.26666666666666666}, {'instance_id': 537, 'instance_time': 537, 'instance_record': 'chb01_26', 'density_instance': 0.26666666666666666, 'density_counterfactual': 0.26666666666666666}, {'instance_id': 559, 'instance_time': 559, 'instance_record': 'chb01_26', 'density_instance': 0.26666666666666666, 'density_counterfactual': 0.26666666666666666}, {'instance_id': 570, 'instance_time': 570, 'instance_record': 'chb01_26', 'density_instance': 0.26666666666666666, 'density_counterfactual': 0.26666666666666666}, {'instance_id': 574, 'instance_time': 574, 'instance_record': 'chb01_26', 'density_instance': 0.26666666666666666, 'density_counterfactual': 0.26666666666666666}, {'instance_id': 581, 'instance_time': 581, 'instance_record': 'chb01_26', 'density_instance': 0.26666666666666666, 'density_counterfactual': 0.26666666666666666}, {'instance_id': 585, 'instance_time': 585, 'instance_record': 'chb01_26', 'density_instance': 0.26666666666666666, 'density_counterfactual': 0.26666666666666666}, {'instance_id': 597, 'instance_time': 597, 'instance_record': 'chb01_26', 'density_instance': 0.26666666666666666, 'density_counterfactual': 0.26666666666666666}, {'instance_id': 600, 'instance_time': 600, 'instance_record': 'chb01_26', 'density_instance': 0.26666666666666666, 'density_counterfactual': 0.26666666666666666}, {'instance_id': 603, 'instance_time': 603, 'instance_record': 'chb01_26', 'density_instance': 0.26666666666666666, 'density_counterfactual': 0.26666666666666666}, {'instance_id': 626, 'instance_time': 626, 'instance_record': 'chb01_26', 'density_instance': 0.26666666666666666, 'density_counterfactual': 0.26666666666666666}, {'instance_id': 629, 'instance_time': 629, 'instance_record': 'chb01_26', 'density_instance': 0.26666666666666666, 'density_counterfactual': 0.26666666666666666}, {'instance_id': 632, 'instance_time': 632, 'instance_record': 'chb01_26', 'density_instance': 0.26666666666666666, 'density_counterfactual': 0.26666666666666666}, {'instance_id': 633, 'instance_time': 633, 'instance_record': 'chb01_26', 'density_instance': 0.26666666666666666, 'density_counterfactual': 0.26666666666666666}, {'instance_id': 640, 'instance_time': 640, 'instance_record': 'chb01_26', 'density_instance': 0.26666666666666666, 'density_counterfactual': 0.26666666666666666}, {'instance_id': 647, 'instance_time': 647, 'instance_record': 'chb01_26', 'density_instance': 0.26666666666666666, 'density_counterfactual': 0.26666666666666666}, {'instance_id': 648, 'instance_time': 648, 'instance_record': 'chb01_26', 'density_instance': 0.26666666666666666, 'density_counterfactual': 0.26666666666666666}, {'instance_id': 652, 'instance_time': 652, 'instance_record': 'chb01_26', 'density_instance': 0.26666666666666666, 'density_counterfactual': 0.26666666666666666}, {'instance_id': 657, 'instance_time': 657, 'instance_record': 'chb01_26', 'density_instance': 0.26666666666666666, 'density_counterfactual': 0.26666666666666666}, {'instance_id': 670, 'instance_time': 670, 'instance_record': 'chb01_26', 'density_instance': 0.26666666666666666, 'density_counterfactual': 0.26666666666666666}, {'instance_id': 672, 'instance_time': 672, 'instance_record': 'chb01_26', 'density_instance': 0.26666666666666666, 'density_counterfactual': 0.26666666666666666}, {'instance_id': 717, 'instance_time': 717, 'instance_record': 'chb01_26', 'density_instance': 0.26666666666666666, 'density_counterfactual': 0.26666666666666666}, {'instance_id': 723, 'instance_time': 723, 'instance_record': 'chb01_26', 'density_instance': 0.26666666666666666, 'density_counterfactual': 0.26666666666666666}, {'instance_id': 724, 'instance_time': 724, 'instance_record': 'chb01_26', 'density_instance': 0.26666666666666666, 'density_counterfactual': 0.26666666666666666}, {'instance_id': 741, 'instance_time': 741, 'instance_record': 'chb01_26', 'density_instance': 0.26666666666666666, 'density_counterfactual': 0.26666666666666666}, {'instance_id': 756, 'instance_time': 756, 'instance_record': 'chb01_26', 'density_instance': 0.26666666666666666, 'density_counterfactual': 0.26666666666666666}]\n"
     ]
    }
   ],
   "source": [
    "path = 'config/GCS-perfect.jsonc'\n",
    "\n",
    "print(observations)\n",
    "\n",
    "print(f\"Generating context for: {path}\")\n",
    "context = Context.get_context(path)\n",
    "context.run_number = -1\n",
    "\n",
    "context.logger.info(f\"Executing: {context.config_file} Run: {context.run_number}\")\n",
    "context.logger.info(\n",
    "    \"Creating the evaluation manager.......................................................\"\n",
    ")\n",
    "\n",
    "if 'doe-triplets' in context.conf:\n",
    "    context.logger.info(\"Creating the TRIPLET evaluators........................................................\")\n",
    "    eval_manager = TripletsEvaluatorManager(context)\n",
    "if 'do-pairs' in context.conf:\n",
    "    context.logger.info(\"Creating the PAIRED evaluators...............................................................\") ### Usiamo questo\n",
    "    eval_manager = PairedEvaluatorManager(context)\n",
    "else:\n",
    "    context.logger.info(\"Creating the evaluators...............................................................\")\n",
    "    eval_manager = EvaluatorManager(context)\n",
    "\n",
    "context.logger.info(\n",
    "    \"Evaluating the explainers.............................................................\"\n",
    ")\n",
    "\n",
    "eval_manager.evaluate()\n",
    "\n",
    "# Additional stuff\n",
    "print('--------------------------------------')\n",
    "\n",
    "for i in range(len(eval_manager._evaluators)):\n",
    "    # context.logger.info(f\"graph_ids: {eval_manager._evaluators[i].get_instance_and_counterfactual_ids()}\") # NON È STATO SISTEMATO PER CONTEMPLARE IL CASO DI PIU' PAZIENTI\n",
    "    context.logger.info(f\"graph_metrics: {eval_manager._evaluators[i].get_instance_and_counterfactual_graph_metrics()}\")"
   ]
  },
  {
   "cell_type": "code",
   "execution_count": 8,
   "metadata": {},
   "outputs": [],
   "source": [
    "# Save eval_manager to file\n",
    "file_name = get_most_recent_file(logs_path).split('.')[0]\n",
    "\n",
    "with open(eval_manager_path + file_name + \".pkl\", 'wb') as f:\n",
    "    pickle.dump(eval_manager, f)"
   ]
  },
  {
   "cell_type": "markdown",
   "metadata": {},
   "source": [
    "## _______________________________________________________________"
   ]
  },
  {
   "cell_type": "code",
   "execution_count": 9,
   "metadata": {},
   "outputs": [
    {
     "name": "stdout",
     "output_type": "stream",
     "text": [
      "Last full run: 15/05/2025, ore 07:50\n"
     ]
    }
   ],
   "source": [
    "import datetime\n",
    "\n",
    "now = datetime.datetime.now()\n",
    "print(\"Last full run:\", now.strftime(\"%d/%m/%Y, ore %H:%M\"))"
   ]
  },
  {
   "cell_type": "code",
   "execution_count": 10,
   "metadata": {},
   "outputs": [],
   "source": [
    "import winsound\n",
    "\n",
    "winsound.Beep(440, 500)\n",
    "winsound.Beep(400, 500)\n",
    "winsound.Beep(440, 500)"
   ]
  },
  {
   "cell_type": "code",
   "execution_count": 11,
   "metadata": {},
   "outputs": [],
   "source": [
    "# from src.data_analysis.future.data_analyzer import DataAnalyzer as data_analyzer\n",
    "\n",
    "# results_path = \"output\\\\results\"\n",
    "# stats_file_path = \"output\"\n",
    "# res = data_analyzer.create_aggregated_dataframe(results_path)\n",
    "# res.to_csv(stats_file_path)\n",
    "# res"
   ]
  }
 ],
 "metadata": {
  "kernelspec": {
   "display_name": "GRETEL_2",
   "language": "python",
   "name": "python3"
  },
  "language_info": {
   "codemirror_mode": {
    "name": "ipython",
    "version": 3
   },
   "file_extension": ".py",
   "mimetype": "text/x-python",
   "name": "python",
   "nbconvert_exporter": "python",
   "pygments_lexer": "ipython3",
   "version": "3.9.20"
  }
 },
 "nbformat": 4,
 "nbformat_minor": 2
}
