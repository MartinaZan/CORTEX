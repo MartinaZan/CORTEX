{
 "cells": [
  {
   "cell_type": "markdown",
   "metadata": {},
   "source": [
    "0 - create dataset  \n",
    "1 - run experiment  \n",
    "2 - plot counterfactuals  \n",
    "3 - plot embeddings  \n",
    "4 - plot results  "
   ]
  },
  {
   "cell_type": "code",
   "execution_count": 1,
   "metadata": {},
   "outputs": [],
   "source": [
    "import pickle\n",
    "\n",
    "from src.evaluation.evaluator_manager import EvaluatorManager\n",
    "from src.evaluation.evaluator_manager_do import EvaluatorManager as PairedEvaluatorManager\n",
    "from src.evaluation.evaluator_manager_triplets import EvaluatorManager as TripletsEvaluatorManager\n",
    "\n",
    "from src.utils.context import Context\n",
    "\n",
    "from utils_martina.my_utils import *"
   ]
  },
  {
   "cell_type": "code",
   "execution_count": 2,
   "metadata": {},
   "outputs": [],
   "source": [
    "# Set patient and record (tutti con gli stessi elettrodi)\n",
    "\n",
    "# observations = [\"chb06_04\"]\n",
    "# observations = [\"chb04_28\"]\n",
    "# observations = [\"chb01_03\", \"chb01_04\", \"chb01_15\", \"chb02_16\", \"chb02_19\", \"chb03_01\", \"chb03_02\", \"chb03_03\", \"chb04_28\", \"chb04_08\", \"chb06_01\", \"chb06_04\"]\n",
    "\n",
    "# observations = [\"chb01_03\", \"chb01_04\", \"chb01_15\", \"chb01_16\", \"chb01_18\", \"chb01_21\", \"chb01_26\"]\n",
    "# observations = [\"chb02_16\", \"chb02_19\"]\n",
    "# observations = [\"chb03_01\", \"chb03_02\", \"chb03_03\", \"chb03_04\", \"chb03_34\", \"chb03_35\", \"chb03_36\"]\n",
    "# observations = [\"chb04_28\", \"chb04_08\"]\n",
    "# observations = [\"chb05_06\", \"chb05_13\", \"chb05_16\", \"chb05_17\", \"chb05_22\"]\n",
    "# observations = [\"chb06_01\", \"chb06_04\"] #, \"chb06_09\", \"chb06_10\", \"chb06_13\", \"chb06_18\", \"chb06_24\"]\n",
    "\n",
    "# observations = [\"PN00_1\", \"PN00_2\", \"PN00_4\"]\n",
    "observations = [\"PN00_2\"]\n",
    "\n",
    "create_dataset_json(observations)"
   ]
  },
  {
   "cell_type": "code",
   "execution_count": 3,
   "metadata": {},
   "outputs": [],
   "source": [
    "logs_path = \"..\\\\..\\\\explainability\\GRETEL-repo\\\\output\\\\logs\\\\\"\n",
    "eval_manager_path = \"..\\\\..\\\\explainability\\GRETEL-repo\\\\output\\\\eval_manager\\\\\""
   ]
  },
  {
   "cell_type": "markdown",
   "metadata": {},
   "source": [
    "## Removing cache dataset"
   ]
  },
  {
   "cell_type": "code",
   "execution_count": 4,
   "metadata": {},
   "outputs": [],
   "source": [
    "remove_cache_dataset = True\n",
    "\n",
    "if remove_cache_dataset:\n",
    "    folder = \".\\data\\cache\\datasets\"\n",
    "\n",
    "    for file in os.listdir(folder):\n",
    "        if file.startswith(\"GCS-\"):  # Checks if the file begins with \"GCS-\"\n",
    "            cache_path = os.path.join(folder, file)\n",
    "            if os.path.isfile(cache_path):\n",
    "                os.remove(cache_path)\n",
    "                print(f\"Removed: {cache_path}\")"
   ]
  },
  {
   "cell_type": "markdown",
   "metadata": {},
   "source": [
    "## Run Gretel experiment"
   ]
  },
  {
   "cell_type": "code",
   "execution_count": 5,
   "metadata": {},
   "outputs": [],
   "source": [
    "# NOTA: Se si blocca, andare a vedere se ci sono dei file OracleTorch provenienti dal futuro"
   ]
  },
  {
   "cell_type": "code",
   "execution_count": null,
   "metadata": {},
   "outputs": [],
   "source": [
    "path = 'config/GCS-GCN.jsonc'\n",
    "# path = 'config/GCS-SVM.jsonc'\n",
    "# path = 'config/GCS-KNN.jsonc'\n",
    "\n",
    "print(observations)\n",
    "\n",
    "print(f\"Generating context for: {path}\")\n",
    "context = Context.get_context(path)\n",
    "context.run_number = -1\n",
    "\n",
    "context.logger.info(f\"Executing: {context.config_file} Run: {context.run_number}\")\n",
    "context.logger.info(\n",
    "    \"Creating the evaluation manager.......................................................\"\n",
    ")\n",
    "\n",
    "if 'doe-triplets' in context.conf:\n",
    "    context.logger.info(\"Creating the TRIPLET evaluators........................................................\")\n",
    "    eval_manager = TripletsEvaluatorManager(context)\n",
    "if 'do-pairs' in context.conf:\n",
    "    context.logger.info(\"Creating the PAIRED evaluators...............................................................\") ### Usiamo questo\n",
    "    eval_manager = PairedEvaluatorManager(context)\n",
    "else:\n",
    "    context.logger.info(\"Creating the evaluators...............................................................\")\n",
    "    eval_manager = EvaluatorManager(context)\n",
    "\n",
    "context.logger.info(\n",
    "    \"Evaluating the explainers.............................................................\"\n",
    ")\n",
    "\n",
    "eval_manager.evaluate()\n",
    "\n",
    "# Additional stuff\n",
    "# context.logger.info(f\"graph_ids: {eval_manager._evaluators[0].get_instance_and_counterfactual_ids()}\") # NON È STATO SISTEMATO PER CONTEMPLARE IL CASO DI PIU' PAZIENTI\n",
    "context.logger.info(f\"graph_metrics: {eval_manager._evaluators[0].get_instance_and_counterfactual_graph_metrics()}\")"
   ]
  },
  {
   "cell_type": "code",
   "execution_count": 7,
   "metadata": {},
   "outputs": [],
   "source": [
    "# Save eval_manager to file\n",
    "file_name = get_most_recent_file(logs_path).split('.')[0]\n",
    "\n",
    "with open(eval_manager_path + file_name + \".pkl\", 'wb') as f:\n",
    "    pickle.dump(eval_manager, f)"
   ]
  },
  {
   "cell_type": "markdown",
   "metadata": {},
   "source": [
    "## _______________________________________________________________"
   ]
  },
  {
   "cell_type": "code",
   "execution_count": 8,
   "metadata": {},
   "outputs": [
    {
     "name": "stdout",
     "output_type": "stream",
     "text": [
      "Ultima esecuzione completa: 24/03/2025, ore 15:11\n"
     ]
    }
   ],
   "source": [
    "import datetime\n",
    "\n",
    "now = datetime.datetime.now()\n",
    "print(\"Ultima esecuzione completa:\", now.strftime(\"%d/%m/%Y, ore %H:%M\"))"
   ]
  },
  {
   "cell_type": "code",
   "execution_count": 9,
   "metadata": {},
   "outputs": [],
   "source": [
    "import winsound\n",
    "\n",
    "winsound.Beep(440, 500)\n",
    "winsound.Beep(400, 500)\n",
    "winsound.Beep(440, 500)"
   ]
  },
  {
   "cell_type": "code",
   "execution_count": 10,
   "metadata": {},
   "outputs": [],
   "source": [
    "# from src.data_analysis.future.data_analyzer import DataAnalyzer as data_analyzer\n",
    "\n",
    "# results_path = \"output\\\\results\"\n",
    "# stats_file_path = \"output\"\n",
    "# res = data_analyzer.create_aggregated_dataframe(results_path)\n",
    "# res.to_csv(stats_file_path)\n",
    "# res"
   ]
  }
 ],
 "metadata": {
  "kernelspec": {
   "display_name": "GRETEL_2",
   "language": "python",
   "name": "python3"
  },
  "language_info": {
   "codemirror_mode": {
    "name": "ipython",
    "version": 3
   },
   "file_extension": ".py",
   "mimetype": "text/x-python",
   "name": "python",
   "nbconvert_exporter": "python",
   "pygments_lexer": "ipython3",
   "version": "3.9.20"
  }
 },
 "nbformat": 4,
 "nbformat_minor": 2
}
