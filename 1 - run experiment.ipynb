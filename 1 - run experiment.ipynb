{
 "cells": [
  {
   "cell_type": "code",
   "execution_count": 1,
   "metadata": {},
   "outputs": [],
   "source": [
    "import pickle\n",
    "\n",
    "from src.evaluation.evaluator_manager import EvaluatorManager\n",
    "from src.evaluation.evaluator_manager_do import EvaluatorManager as PairedEvaluatorManager\n",
    "from src.evaluation.evaluator_manager_triplets import EvaluatorManager as TripletsEvaluatorManager\n",
    "\n",
    "from src.utils.context import Context\n",
    "\n",
    "from utils_martina.my_utils import *"
   ]
  },
  {
   "cell_type": "code",
   "execution_count": 2,
   "metadata": {},
   "outputs": [],
   "source": [
    "# Set patient and record (same channels)\n",
    "\n",
    "# observations = [\"chb01_03\", \"chb01_04\", \"chb01_15\", \"chb02_16\", \"chb02_19\", \"chb03_01\", \"chb03_02\", \"chb03_03\", \"chb04_28\", \"chb04_08\", \"chb06_01\", \"chb06_04\"]\n",
    "\n",
    "# observations = [\"chb01_03\", \"chb01_04\", \"chb01_15\", \"chb01_16\", \"chb01_18\", \"chb01_21\", \"chb01_26\"]\n",
    "# observations = [\"chb02_16\", \"chb02_19\"]\n",
    "# observations = [\"chb03_01\", \"chb03_02\", \"chb03_03\", \"chb03_04\", \"chb03_34\", \"chb03_35\", \"chb03_36\"]\n",
    "# observations = [\"chb04_28\", \"chb04_08\"]\n",
    "# observations = [\"chb05_06\", \"chb05_13\", \"chb05_16\", \"chb05_17\", \"chb05_22\"]\n",
    "# observations = [\"chb06_01\", \"chb06_04\"] #, \"chb06_09\", \"chb06_10\", \"chb06_13\", \"chb06_18\", \"chb06_24\"]\n",
    "\n",
    "# observations = [\"PN00_1\", \"PN00_2\", \"PN00_4\", \"PN00_5\"]\n",
    "# observations = [\"PN14_1\", \"PN14_2\", \"PN14_3\", \"PN14_4\"]\n",
    "observations = [\"PN14_4\"]\n",
    "# observations = [\"chb04_28\"]\n",
    "\n",
    "create_dataset_json(observations)"
   ]
  },
  {
   "cell_type": "code",
   "execution_count": 3,
   "metadata": {},
   "outputs": [],
   "source": [
    "logs_path = \"..\\\\..\\\\explainability\\GRETEL-repo\\\\output\\\\logs\\\\\"\n",
    "eval_manager_path = \"..\\\\..\\\\explainability\\GRETEL-repo\\\\output\\\\eval_manager\\\\\""
   ]
  },
  {
   "cell_type": "markdown",
   "metadata": {},
   "source": [
    "## Removing cache dataset"
   ]
  },
  {
   "cell_type": "code",
   "execution_count": 4,
   "metadata": {},
   "outputs": [
    {
     "name": "stdout",
     "output_type": "stream",
     "text": [
      "Removed: .\\data\\cache\\datasets\\GCS-28e49373646e3a1aa4f78d3b3cf52c7d\n"
     ]
    }
   ],
   "source": [
    "remove_cache_dataset = True\n",
    "\n",
    "if remove_cache_dataset:\n",
    "    folder = \".\\data\\cache\\datasets\"\n",
    "\n",
    "    for file in os.listdir(folder):\n",
    "        if file.startswith(\"GCS-\"):  # Checks if the file begins with \"GCS-\"\n",
    "            cache_path = os.path.join(folder, file)\n",
    "            if os.path.isfile(cache_path):\n",
    "                os.remove(cache_path)\n",
    "                print(f\"Removed: {cache_path}\")"
   ]
  },
  {
   "cell_type": "markdown",
   "metadata": {},
   "source": [
    "## Run Gretel experiment"
   ]
  },
  {
   "cell_type": "code",
   "execution_count": 5,
   "metadata": {},
   "outputs": [],
   "source": [
    "# NOTICE: If it crashes, check if there are any OracleTorch files from the future!"
   ]
  },
  {
   "cell_type": "code",
   "execution_count": 6,
   "metadata": {},
   "outputs": [
    {
     "name": "stdout",
     "output_type": "stream",
     "text": [
      "['PN14_4']\n",
      "Generating context for: config/GCS-GCN.jsonc\n",
      "2025-03-31 17:01:51,943 | INFO | 15276 - Executing: config/GCS-GCN.jsonc Run: -1\n",
      "2025-03-31 17:01:51,959 | INFO | 15276 - Creating the evaluation manager.......................................................\n",
      "2025-03-31 17:01:51,990 | INFO | 15276 - Creating the PAIRED evaluators...............................................................\n",
      "2025-03-31 17:01:52,070 | INFO | 15276 - Creating: GCS-28e49373646e3a1aa4f78d3b3cf52c7d\n",
      "2025-03-31 17:01:52,070 | INFO | 15276 - Instantiating: src.dataset.generators.gcs.GCS\n",
      "2025-03-31 17:01:55,053 | INFO | 15276 - Saved: GCS-28e49373646e3a1aa4f78d3b3cf52c7d\n",
      "2025-03-31 17:01:55,119 | INFO | 15276 - Created: GCS-28e49373646e3a1aa4f78d3b3cf52c7d\n",
      "2025-03-31 17:01:55,127 | INFO | 15276 - Instantiating: src.oracle.nn.gcn.DownstreamGCN\n",
      "2025-03-31 17:01:55,138 | INFO | 15276 - Instantiating: torch.optim.RMSprop\n",
      "2025-03-31 17:01:55,140 | INFO | 15276 - Instantiating: torch.nn.CrossEntropyLoss\n",
      "2025-03-31 17:01:55,185 | INFO | 15276 - Creating: OracleTorch-2547d76d086f5bdbe225aff30ab3410a\n",
      "2025-03-31 17:01:55,735 | INFO | 15276 - epoch = 0 ---> loss = 0.6883\t accuracy = 0.5188\n",
      "2025-03-31 17:01:56,043 | INFO | 15276 - epoch = 1 ---> loss = 0.6778\t accuracy = 0.5271\n",
      "2025-03-31 17:01:56,364 | INFO | 15276 - epoch = 2 ---> loss = 0.6671\t accuracy = 0.5271\n",
      "2025-03-31 17:01:56,631 | INFO | 15276 - epoch = 3 ---> loss = 0.6552\t accuracy = 0.5260\n",
      "2025-03-31 17:01:56,920 | INFO | 15276 - epoch = 4 ---> loss = 0.6438\t accuracy = 0.5448\n"
     ]
    },
    {
     "ename": "KeyboardInterrupt",
     "evalue": "",
     "output_type": "error",
     "traceback": [
      "\u001b[1;31m---------------------------------------------------------------------------\u001b[0m",
      "\u001b[1;31mKeyboardInterrupt\u001b[0m                         Traceback (most recent call last)",
      "Cell \u001b[1;32mIn[6], line 21\u001b[0m\n\u001b[0;32m     19\u001b[0m \u001b[38;5;28;01mif\u001b[39;00m \u001b[38;5;124m'\u001b[39m\u001b[38;5;124mdo-pairs\u001b[39m\u001b[38;5;124m'\u001b[39m \u001b[38;5;129;01min\u001b[39;00m context\u001b[38;5;241m.\u001b[39mconf:\n\u001b[0;32m     20\u001b[0m     context\u001b[38;5;241m.\u001b[39mlogger\u001b[38;5;241m.\u001b[39minfo(\u001b[38;5;124m\"\u001b[39m\u001b[38;5;124mCreating the PAIRED evaluators...............................................................\u001b[39m\u001b[38;5;124m\"\u001b[39m) \u001b[38;5;66;03m### Usiamo questo\u001b[39;00m\n\u001b[1;32m---> 21\u001b[0m     eval_manager \u001b[38;5;241m=\u001b[39m \u001b[43mPairedEvaluatorManager\u001b[49m\u001b[43m(\u001b[49m\u001b[43mcontext\u001b[49m\u001b[43m)\u001b[49m\n\u001b[0;32m     22\u001b[0m \u001b[38;5;28;01melse\u001b[39;00m:\n\u001b[0;32m     23\u001b[0m     context\u001b[38;5;241m.\u001b[39mlogger\u001b[38;5;241m.\u001b[39minfo(\u001b[38;5;124m\"\u001b[39m\u001b[38;5;124mCreating the evaluators...............................................................\u001b[39m\u001b[38;5;124m\"\u001b[39m)\n",
      "File \u001b[1;32mc:\\Users\\zanno\\Desktop\\Backup vari\\GRETEL-repo (backup)\\src\\evaluation\\evaluator_manager_do.py:30\u001b[0m, in \u001b[0;36mEvaluatorManager.__init__\u001b[1;34m(self, context)\u001b[0m\n\u001b[0;32m     27\u001b[0m \u001b[38;5;28mself\u001b[39m\u001b[38;5;241m.\u001b[39mcontext\u001b[38;5;241m.\u001b[39mfactories[\u001b[38;5;124m'\u001b[39m\u001b[38;5;124mmetrics\u001b[39m\u001b[38;5;124m'\u001b[39m] \u001b[38;5;241m=\u001b[39m EvaluationMetricFactory(context\u001b[38;5;241m.\u001b[39mconf)\n\u001b[0;32m     28\u001b[0m \u001b[38;5;28mself\u001b[39m\u001b[38;5;241m.\u001b[39mcontext\u001b[38;5;241m.\u001b[39mfactories[\u001b[38;5;124m'\u001b[39m\u001b[38;5;124mplotters\u001b[39m\u001b[38;5;124m'\u001b[39m] \u001b[38;5;241m=\u001b[39m PlotterFactory(context)\n\u001b[1;32m---> 30\u001b[0m \u001b[38;5;28;43mself\u001b[39;49m\u001b[38;5;241;43m.\u001b[39;49m\u001b[43m_create_evaluators\u001b[49m\u001b[43m(\u001b[49m\u001b[43m)\u001b[49m\n",
      "File \u001b[1;32mc:\\Users\\zanno\\Desktop\\Backup vari\\GRETEL-repo (backup)\\src\\evaluation\\evaluator_manager_do.py:64\u001b[0m, in \u001b[0;36mEvaluatorManager._create_evaluators\u001b[1;34m(self)\u001b[0m\n\u001b[0;32m     61\u001b[0m dataset \u001b[38;5;241m=\u001b[39m \u001b[38;5;28mself\u001b[39m\u001b[38;5;241m.\u001b[39mcontext\u001b[38;5;241m.\u001b[39mfactories[\u001b[38;5;124m'\u001b[39m\u001b[38;5;124mdatasets\u001b[39m\u001b[38;5;124m'\u001b[39m]\u001b[38;5;241m.\u001b[39mget_dataset(do_pair_snippet[\u001b[38;5;124m'\u001b[39m\u001b[38;5;124mdataset\u001b[39m\u001b[38;5;124m'\u001b[39m])\n\u001b[0;32m     63\u001b[0m \u001b[38;5;66;03m# The get_oracle method returns a fitted oracle on the dataset;\u001b[39;00m\n\u001b[1;32m---> 64\u001b[0m oracle \u001b[38;5;241m=\u001b[39m \u001b[38;5;28;43mself\u001b[39;49m\u001b[38;5;241;43m.\u001b[39;49m\u001b[43mcontext\u001b[49m\u001b[38;5;241;43m.\u001b[39;49m\u001b[43mfactories\u001b[49m\u001b[43m[\u001b[49m\u001b[38;5;124;43m'\u001b[39;49m\u001b[38;5;124;43moracles\u001b[39;49m\u001b[38;5;124;43m'\u001b[39;49m\u001b[43m]\u001b[49m\u001b[38;5;241;43m.\u001b[39;49m\u001b[43mget_oracle\u001b[49m\u001b[43m(\u001b[49m\u001b[43mdo_pair_snippet\u001b[49m\u001b[43m[\u001b[49m\u001b[38;5;124;43m'\u001b[39;49m\u001b[38;5;124;43moracle\u001b[39;49m\u001b[38;5;124;43m'\u001b[39;49m\u001b[43m]\u001b[49m\u001b[43m,\u001b[49m\u001b[43m \u001b[49m\u001b[43mdataset\u001b[49m\u001b[43m)\u001b[49m                    \n\u001b[0;32m     66\u001b[0m \u001b[38;5;66;03m# The get_explainer method returns an (fitted in case is trainable) explainer for the dataset and the oracle;                \u001b[39;00m\n\u001b[0;32m     67\u001b[0m explainer \u001b[38;5;241m=\u001b[39m \u001b[38;5;28mself\u001b[39m\u001b[38;5;241m.\u001b[39mcontext\u001b[38;5;241m.\u001b[39mfactories[\u001b[38;5;124m'\u001b[39m\u001b[38;5;124mexplainers\u001b[39m\u001b[38;5;124m'\u001b[39m]\u001b[38;5;241m.\u001b[39mget_explainer(explainer_snippet, dataset, oracle)                \n",
      "File \u001b[1;32mc:\\Users\\zanno\\Desktop\\Backup vari\\GRETEL-repo (backup)\\src\\oracle\\oracle_factory.py:7\u001b[0m, in \u001b[0;36mOracleFactory.get_oracle\u001b[1;34m(self, oracle_snippet, dataset)\u001b[0m\n\u001b[0;32m      5\u001b[0m \u001b[38;5;28;01mdef\u001b[39;00m \u001b[38;5;21mget_oracle\u001b[39m(\u001b[38;5;28mself\u001b[39m, oracle_snippet, dataset):\n\u001b[0;32m      6\u001b[0m     inject_dataset(oracle_snippet, dataset)\n\u001b[1;32m----> 7\u001b[0m     \u001b[38;5;28;01mreturn\u001b[39;00m \u001b[38;5;28;43mself\u001b[39;49m\u001b[38;5;241;43m.\u001b[39;49m\u001b[43m_get_object\u001b[49m\u001b[43m(\u001b[49m\u001b[43moracle_snippet\u001b[49m\u001b[43m)\u001b[49m\n",
      "File \u001b[1;32mc:\\Users\\zanno\\Desktop\\Backup vari\\GRETEL-repo (backup)\\src\\core\\factory_base.py:9\u001b[0m, in \u001b[0;36mFactory._get_object\u001b[1;34m(self, object_snippet)\u001b[0m\n\u001b[0;32m      8\u001b[0m \u001b[38;5;28;01mdef\u001b[39;00m \u001b[38;5;21m_get_object\u001b[39m(\u001b[38;5;28mself\u001b[39m, object_snippet):\n\u001b[1;32m----> 9\u001b[0m     base_obj \u001b[38;5;241m=\u001b[39m \u001b[43mget_class\u001b[49m\u001b[43m(\u001b[49m\u001b[43mobject_snippet\u001b[49m\u001b[43m[\u001b[49m\u001b[38;5;124;43m'\u001b[39;49m\u001b[38;5;124;43mclass\u001b[39;49m\u001b[38;5;124;43m'\u001b[39;49m\u001b[43m]\u001b[49m\u001b[43m)\u001b[49m\u001b[43m(\u001b[49m\u001b[38;5;28;43mself\u001b[39;49m\u001b[38;5;241;43m.\u001b[39;49m\u001b[43mcontext\u001b[49m\u001b[43m,\u001b[49m\u001b[43m \u001b[49m\u001b[43mobject_snippet\u001b[49m\u001b[43m)\u001b[49m\n\u001b[0;32m     10\u001b[0m     \u001b[38;5;28mself\u001b[39m\u001b[38;5;241m.\u001b[39mcontext\u001b[38;5;241m.\u001b[39mlogger\u001b[38;5;241m.\u001b[39minfo(\u001b[38;5;124m\"\u001b[39m\u001b[38;5;124mCreated: \u001b[39m\u001b[38;5;124m\"\u001b[39m\u001b[38;5;241m+\u001b[39m \u001b[38;5;28mstr\u001b[39m(base_obj))\n\u001b[0;32m     11\u001b[0m     \u001b[38;5;28;01mreturn\u001b[39;00m base_obj\n",
      "File \u001b[1;32mc:\\Users\\zanno\\Desktop\\Backup vari\\GRETEL-repo (backup)\\src\\core\\oracle_base.py:11\u001b[0m, in \u001b[0;36mOracle.__init__\u001b[1;34m(self, context, local_config)\u001b[0m\n\u001b[0;32m     10\u001b[0m \u001b[38;5;28;01mdef\u001b[39;00m \u001b[38;5;21m__init__\u001b[39m(\u001b[38;5;28mself\u001b[39m, context:Context, local_config) \u001b[38;5;241m-\u001b[39m\u001b[38;5;241m>\u001b[39m \u001b[38;5;28;01mNone\u001b[39;00m:\n\u001b[1;32m---> 11\u001b[0m     \u001b[38;5;28;43msuper\u001b[39;49m\u001b[43m(\u001b[49m\u001b[43m)\u001b[49m\u001b[38;5;241;43m.\u001b[39;49m\u001b[38;5;21;43m__init__\u001b[39;49m\u001b[43m(\u001b[49m\u001b[43mcontext\u001b[49m\u001b[43m,\u001b[49m\u001b[43m \u001b[49m\u001b[43mlocal_config\u001b[49m\u001b[43m)\u001b[49m\n\u001b[0;32m     12\u001b[0m     \u001b[38;5;28mself\u001b[39m\u001b[38;5;241m.\u001b[39m_call_counter \u001b[38;5;241m=\u001b[39m \u001b[38;5;241m0\u001b[39m\n",
      "File \u001b[1;32mc:\\Users\\zanno\\Desktop\\Backup vari\\GRETEL-repo (backup)\\src\\core\\trainable_base.py:13\u001b[0m, in \u001b[0;36mTrainable.__init__\u001b[1;34m(self, context, local_config)\u001b[0m\n\u001b[0;32m     11\u001b[0m \u001b[38;5;28;01mdef\u001b[39;00m \u001b[38;5;21m__init__\u001b[39m(\u001b[38;5;28mself\u001b[39m, context: Context, local_config):\n\u001b[0;32m     12\u001b[0m     \u001b[38;5;28mself\u001b[39m\u001b[38;5;241m.\u001b[39mdataset: Dataset \u001b[38;5;241m=\u001b[39m retake_dataset(local_config)\n\u001b[1;32m---> 13\u001b[0m     \u001b[38;5;28;43msuper\u001b[39;49m\u001b[43m(\u001b[49m\u001b[43m)\u001b[49m\u001b[38;5;241;43m.\u001b[39;49m\u001b[38;5;21;43m__init__\u001b[39;49m\u001b[43m(\u001b[49m\u001b[43mcontext\u001b[49m\u001b[43m,\u001b[49m\u001b[43m \u001b[49m\u001b[43mlocal_config\u001b[49m\u001b[43m)\u001b[49m\n",
      "File \u001b[1;32mc:\\Users\\zanno\\Desktop\\Backup vari\\GRETEL-repo (backup)\\src\\core\\savable.py:14\u001b[0m, in \u001b[0;36mSavable.__init__\u001b[1;34m(self, context, local_config)\u001b[0m\n\u001b[0;32m     12\u001b[0m \u001b[38;5;28;01mdef\u001b[39;00m \u001b[38;5;21m__init__\u001b[39m(\u001b[38;5;28mself\u001b[39m, context: Context, local_config):\n\u001b[0;32m     13\u001b[0m     \u001b[38;5;28msuper\u001b[39m()\u001b[38;5;241m.\u001b[39m\u001b[38;5;21m__init__\u001b[39m(context, local_config)\n\u001b[1;32m---> 14\u001b[0m     \u001b[38;5;28;43mself\u001b[39;49m\u001b[38;5;241;43m.\u001b[39;49m\u001b[43mload_or_create\u001b[49m\u001b[43m(\u001b[49m\u001b[43m)\u001b[49m\n",
      "File \u001b[1;32mc:\\Users\\zanno\\Desktop\\Backup vari\\GRETEL-repo (backup)\\src\\core\\trainable_base.py:16\u001b[0m, in \u001b[0;36mTrainable.load_or_create\u001b[1;34m(self, condition)\u001b[0m\n\u001b[0;32m     15\u001b[0m \u001b[38;5;28;01mdef\u001b[39;00m \u001b[38;5;21mload_or_create\u001b[39m(\u001b[38;5;28mself\u001b[39m, condition\u001b[38;5;241m=\u001b[39m\u001b[38;5;28;01mFalse\u001b[39;00m):\n\u001b[1;32m---> 16\u001b[0m     \u001b[38;5;28;43msuper\u001b[39;49m\u001b[43m(\u001b[49m\u001b[43m)\u001b[49m\u001b[38;5;241;43m.\u001b[39;49m\u001b[43mload_or_create\u001b[49m\u001b[43m(\u001b[49m\u001b[38;5;28;43mself\u001b[39;49m\u001b[38;5;241;43m.\u001b[39;49m\u001b[43m_to_retrain\u001b[49m\u001b[43m(\u001b[49m\u001b[43m)\u001b[49m\u001b[43m \u001b[49m\u001b[38;5;129;43;01mor\u001b[39;49;00m\u001b[43m \u001b[49m\u001b[43mcondition\u001b[49m\u001b[43m)\u001b[49m\n",
      "File \u001b[1;32mc:\\Users\\zanno\\Desktop\\Backup vari\\GRETEL-repo (backup)\\src\\core\\savable.py:44\u001b[0m, in \u001b[0;36mSavable.load_or_create\u001b[1;34m(self, condition_ext)\u001b[0m\n\u001b[0;32m     42\u001b[0m \u001b[38;5;28;01mif\u001b[39;00m condition:\n\u001b[0;32m     43\u001b[0m     \u001b[38;5;28mself\u001b[39m\u001b[38;5;241m.\u001b[39mcontext\u001b[38;5;241m.\u001b[39mlogger\u001b[38;5;241m.\u001b[39minfo(\u001b[38;5;124mf\u001b[39m\u001b[38;5;124m\"\u001b[39m\u001b[38;5;124mCreating: \u001b[39m\u001b[38;5;132;01m{\u001b[39;00m\u001b[38;5;28mself\u001b[39m\u001b[38;5;132;01m}\u001b[39;00m\u001b[38;5;124m\"\u001b[39m)\n\u001b[1;32m---> 44\u001b[0m     \u001b[38;5;28;43mself\u001b[39;49m\u001b[38;5;241;43m.\u001b[39;49m\u001b[43mcreate\u001b[49m\u001b[43m(\u001b[49m\u001b[43m)\u001b[49m\n\u001b[0;32m     45\u001b[0m     \u001b[38;5;28mself\u001b[39m\u001b[38;5;241m.\u001b[39mwrite()\n\u001b[0;32m     46\u001b[0m     \u001b[38;5;28mself\u001b[39m\u001b[38;5;241m.\u001b[39mcontext\u001b[38;5;241m.\u001b[39mlogger\u001b[38;5;241m.\u001b[39minfo(\u001b[38;5;124mf\u001b[39m\u001b[38;5;124m\"\u001b[39m\u001b[38;5;124mSaved: \u001b[39m\u001b[38;5;132;01m{\u001b[39;00m\u001b[38;5;28mself\u001b[39m\u001b[38;5;132;01m}\u001b[39;00m\u001b[38;5;124m\"\u001b[39m)\n",
      "File \u001b[1;32mc:\\Users\\zanno\\Desktop\\Backup vari\\GRETEL-repo (backup)\\src\\core\\trainable_base.py:38\u001b[0m, in \u001b[0;36mTrainable.create\u001b[1;34m(self)\u001b[0m\n\u001b[0;32m     37\u001b[0m \u001b[38;5;28;01mdef\u001b[39;00m \u001b[38;5;21mcreate\u001b[39m(\u001b[38;5;28mself\u001b[39m):\n\u001b[1;32m---> 38\u001b[0m     \u001b[38;5;28;43mself\u001b[39;49m\u001b[38;5;241;43m.\u001b[39;49m\u001b[43mfit\u001b[49m\u001b[43m(\u001b[49m\u001b[43m)\u001b[49m\n",
      "File \u001b[1;32mc:\\Users\\zanno\\Desktop\\Backup vari\\GRETEL-repo (backup)\\src\\core\\trainable_base.py:30\u001b[0m, in \u001b[0;36mTrainable.fit\u001b[1;34m(self)\u001b[0m\n\u001b[0;32m     28\u001b[0m \u001b[38;5;28;01mdef\u001b[39;00m \u001b[38;5;21mfit\u001b[39m(\u001b[38;5;28mself\u001b[39m):\n\u001b[0;32m     29\u001b[0m     stime \u001b[38;5;241m=\u001b[39m time\u001b[38;5;241m.\u001b[39mtime()\n\u001b[1;32m---> 30\u001b[0m     \u001b[38;5;28;43mself\u001b[39;49m\u001b[38;5;241;43m.\u001b[39;49m\u001b[43mreal_fit\u001b[49m\u001b[43m(\u001b[49m\u001b[43m)\u001b[49m\n\u001b[0;32m     31\u001b[0m     \u001b[38;5;28mself\u001b[39m\u001b[38;5;241m.\u001b[39mtraining_time \u001b[38;5;241m=\u001b[39m time\u001b[38;5;241m.\u001b[39mtime() \u001b[38;5;241m-\u001b[39m stime\n\u001b[0;32m     32\u001b[0m     \u001b[38;5;28;01mif\u001b[39;00m \u001b[38;5;28mhasattr\u001b[39m(\u001b[38;5;28mself\u001b[39m, \u001b[38;5;124m'\u001b[39m\u001b[38;5;124mdevice\u001b[39m\u001b[38;5;124m'\u001b[39m) \u001b[38;5;129;01mand\u001b[39;00m \u001b[38;5;28mself\u001b[39m\u001b[38;5;241m.\u001b[39mdevice \u001b[38;5;129;01mis\u001b[39;00m \u001b[38;5;129;01mnot\u001b[39;00m \u001b[38;5;28;01mNone\u001b[39;00m:\n",
      "File \u001b[1;32mc:\\Users\\zanno\\Desktop\\Backup vari\\GRETEL-repo (backup)\\src\\oracle\\nn\\torch.py:12\u001b[0m, in \u001b[0;36mOracleTorch.real_fit\u001b[1;34m(self)\u001b[0m\n\u001b[0;32m     11\u001b[0m \u001b[38;5;28;01mdef\u001b[39;00m \u001b[38;5;21mreal_fit\u001b[39m(\u001b[38;5;28mself\u001b[39m):\n\u001b[1;32m---> 12\u001b[0m     \u001b[38;5;28;43msuper\u001b[39;49m\u001b[43m(\u001b[49m\u001b[43m)\u001b[49m\u001b[38;5;241;43m.\u001b[39;49m\u001b[43mreal_fit\u001b[49m\u001b[43m(\u001b[49m\u001b[43m)\u001b[49m\n\u001b[0;32m     13\u001b[0m     \u001b[38;5;28mself\u001b[39m\u001b[38;5;241m.\u001b[39mevaluate(\u001b[38;5;28mself\u001b[39m\u001b[38;5;241m.\u001b[39mdataset, fold_id\u001b[38;5;241m=\u001b[39m\u001b[38;5;28mself\u001b[39m\u001b[38;5;241m.\u001b[39mfold_id)\n",
      "File \u001b[1;32mc:\\Users\\zanno\\Desktop\\Backup vari\\GRETEL-repo (backup)\\src\\core\\torch_base.py:93\u001b[0m, in \u001b[0;36mTorchBase.real_fit\u001b[1;34m(self)\u001b[0m\n\u001b[0;32m     91\u001b[0m loss \u001b[38;5;241m=\u001b[39m \u001b[38;5;28mself\u001b[39m\u001b[38;5;241m.\u001b[39mloss_fn(pred, labels)\n\u001b[0;32m     92\u001b[0m losses\u001b[38;5;241m.\u001b[39mappend(loss\u001b[38;5;241m.\u001b[39mto(\u001b[38;5;124m'\u001b[39m\u001b[38;5;124mcpu\u001b[39m\u001b[38;5;124m'\u001b[39m)\u001b[38;5;241m.\u001b[39mdetach()\u001b[38;5;241m.\u001b[39mnumpy())\n\u001b[1;32m---> 93\u001b[0m \u001b[43mloss\u001b[49m\u001b[38;5;241;43m.\u001b[39;49m\u001b[43mbackward\u001b[49m\u001b[43m(\u001b[49m\u001b[43m)\u001b[49m\n\u001b[0;32m     95\u001b[0m labels_list \u001b[38;5;241m+\u001b[39m\u001b[38;5;241m=\u001b[39m \u001b[38;5;28mlist\u001b[39m(labels\u001b[38;5;241m.\u001b[39msqueeze()\u001b[38;5;241m.\u001b[39mlong()\u001b[38;5;241m.\u001b[39mdetach()\u001b[38;5;241m.\u001b[39mto(\u001b[38;5;124m'\u001b[39m\u001b[38;5;124mcpu\u001b[39m\u001b[38;5;124m'\u001b[39m)\u001b[38;5;241m.\u001b[39mnumpy())\n\u001b[0;32m     96\u001b[0m preds \u001b[38;5;241m+\u001b[39m\u001b[38;5;241m=\u001b[39m \u001b[38;5;28mlist\u001b[39m(pred\u001b[38;5;241m.\u001b[39msqueeze()\u001b[38;5;241m.\u001b[39mdetach()\u001b[38;5;241m.\u001b[39mto(\u001b[38;5;124m'\u001b[39m\u001b[38;5;124mcpu\u001b[39m\u001b[38;5;124m'\u001b[39m)\u001b[38;5;241m.\u001b[39mnumpy())\n",
      "File \u001b[1;32mc:\\Users\\zanno\\miniconda3\\envs\\GRETEL_2\\lib\\site-packages\\torch\\_tensor.py:581\u001b[0m, in \u001b[0;36mTensor.backward\u001b[1;34m(self, gradient, retain_graph, create_graph, inputs)\u001b[0m\n\u001b[0;32m    571\u001b[0m \u001b[38;5;28;01mif\u001b[39;00m has_torch_function_unary(\u001b[38;5;28mself\u001b[39m):\n\u001b[0;32m    572\u001b[0m     \u001b[38;5;28;01mreturn\u001b[39;00m handle_torch_function(\n\u001b[0;32m    573\u001b[0m         Tensor\u001b[38;5;241m.\u001b[39mbackward,\n\u001b[0;32m    574\u001b[0m         (\u001b[38;5;28mself\u001b[39m,),\n\u001b[1;32m   (...)\u001b[0m\n\u001b[0;32m    579\u001b[0m         inputs\u001b[38;5;241m=\u001b[39minputs,\n\u001b[0;32m    580\u001b[0m     )\n\u001b[1;32m--> 581\u001b[0m \u001b[43mtorch\u001b[49m\u001b[38;5;241;43m.\u001b[39;49m\u001b[43mautograd\u001b[49m\u001b[38;5;241;43m.\u001b[39;49m\u001b[43mbackward\u001b[49m\u001b[43m(\u001b[49m\n\u001b[0;32m    582\u001b[0m \u001b[43m    \u001b[49m\u001b[38;5;28;43mself\u001b[39;49m\u001b[43m,\u001b[49m\u001b[43m \u001b[49m\u001b[43mgradient\u001b[49m\u001b[43m,\u001b[49m\u001b[43m \u001b[49m\u001b[43mretain_graph\u001b[49m\u001b[43m,\u001b[49m\u001b[43m \u001b[49m\u001b[43mcreate_graph\u001b[49m\u001b[43m,\u001b[49m\u001b[43m \u001b[49m\u001b[43minputs\u001b[49m\u001b[38;5;241;43m=\u001b[39;49m\u001b[43minputs\u001b[49m\n\u001b[0;32m    583\u001b[0m \u001b[43m\u001b[49m\u001b[43m)\u001b[49m\n",
      "File \u001b[1;32mc:\\Users\\zanno\\miniconda3\\envs\\GRETEL_2\\lib\\site-packages\\torch\\autograd\\__init__.py:347\u001b[0m, in \u001b[0;36mbackward\u001b[1;34m(tensors, grad_tensors, retain_graph, create_graph, grad_variables, inputs)\u001b[0m\n\u001b[0;32m    342\u001b[0m     retain_graph \u001b[38;5;241m=\u001b[39m create_graph\n\u001b[0;32m    344\u001b[0m \u001b[38;5;66;03m# The reason we repeat the same comment below is that\u001b[39;00m\n\u001b[0;32m    345\u001b[0m \u001b[38;5;66;03m# some Python versions print out the first line of a multi-line function\u001b[39;00m\n\u001b[0;32m    346\u001b[0m \u001b[38;5;66;03m# calls in the traceback and some print out the last line\u001b[39;00m\n\u001b[1;32m--> 347\u001b[0m \u001b[43m_engine_run_backward\u001b[49m\u001b[43m(\u001b[49m\n\u001b[0;32m    348\u001b[0m \u001b[43m    \u001b[49m\u001b[43mtensors\u001b[49m\u001b[43m,\u001b[49m\n\u001b[0;32m    349\u001b[0m \u001b[43m    \u001b[49m\u001b[43mgrad_tensors_\u001b[49m\u001b[43m,\u001b[49m\n\u001b[0;32m    350\u001b[0m \u001b[43m    \u001b[49m\u001b[43mretain_graph\u001b[49m\u001b[43m,\u001b[49m\n\u001b[0;32m    351\u001b[0m \u001b[43m    \u001b[49m\u001b[43mcreate_graph\u001b[49m\u001b[43m,\u001b[49m\n\u001b[0;32m    352\u001b[0m \u001b[43m    \u001b[49m\u001b[43minputs\u001b[49m\u001b[43m,\u001b[49m\n\u001b[0;32m    353\u001b[0m \u001b[43m    \u001b[49m\u001b[43mallow_unreachable\u001b[49m\u001b[38;5;241;43m=\u001b[39;49m\u001b[38;5;28;43;01mTrue\u001b[39;49;00m\u001b[43m,\u001b[49m\n\u001b[0;32m    354\u001b[0m \u001b[43m    \u001b[49m\u001b[43maccumulate_grad\u001b[49m\u001b[38;5;241;43m=\u001b[39;49m\u001b[38;5;28;43;01mTrue\u001b[39;49;00m\u001b[43m,\u001b[49m\n\u001b[0;32m    355\u001b[0m \u001b[43m\u001b[49m\u001b[43m)\u001b[49m\n",
      "File \u001b[1;32mc:\\Users\\zanno\\miniconda3\\envs\\GRETEL_2\\lib\\site-packages\\torch\\autograd\\graph.py:825\u001b[0m, in \u001b[0;36m_engine_run_backward\u001b[1;34m(t_outputs, *args, **kwargs)\u001b[0m\n\u001b[0;32m    823\u001b[0m     unregister_hooks \u001b[38;5;241m=\u001b[39m _register_logging_hooks_on_whole_graph(t_outputs)\n\u001b[0;32m    824\u001b[0m \u001b[38;5;28;01mtry\u001b[39;00m:\n\u001b[1;32m--> 825\u001b[0m     \u001b[38;5;28;01mreturn\u001b[39;00m Variable\u001b[38;5;241m.\u001b[39m_execution_engine\u001b[38;5;241m.\u001b[39mrun_backward(  \u001b[38;5;66;03m# Calls into the C++ engine to run the backward pass\u001b[39;00m\n\u001b[0;32m    826\u001b[0m         t_outputs, \u001b[38;5;241m*\u001b[39margs, \u001b[38;5;241m*\u001b[39m\u001b[38;5;241m*\u001b[39mkwargs\n\u001b[0;32m    827\u001b[0m     )  \u001b[38;5;66;03m# Calls into the C++ engine to run the backward pass\u001b[39;00m\n\u001b[0;32m    828\u001b[0m \u001b[38;5;28;01mfinally\u001b[39;00m:\n\u001b[0;32m    829\u001b[0m     \u001b[38;5;28;01mif\u001b[39;00m attach_logging_hooks:\n",
      "\u001b[1;31mKeyboardInterrupt\u001b[0m: "
     ]
    }
   ],
   "source": [
    "path = 'config/GCS-GCN.jsonc'\n",
    "# path = 'config/GCS-SVM.jsonc'\n",
    "# path = 'config/GCS-KNN.jsonc'\n",
    "\n",
    "print(observations)\n",
    "\n",
    "print(f\"Generating context for: {path}\")\n",
    "context = Context.get_context(path)\n",
    "context.run_number = -1\n",
    "\n",
    "context.logger.info(f\"Executing: {context.config_file} Run: {context.run_number}\")\n",
    "context.logger.info(\n",
    "    \"Creating the evaluation manager.......................................................\"\n",
    ")\n",
    "\n",
    "if 'doe-triplets' in context.conf:\n",
    "    context.logger.info(\"Creating the TRIPLET evaluators........................................................\")\n",
    "    eval_manager = TripletsEvaluatorManager(context)\n",
    "if 'do-pairs' in context.conf:\n",
    "    context.logger.info(\"Creating the PAIRED evaluators...............................................................\") ### Usiamo questo\n",
    "    eval_manager = PairedEvaluatorManager(context)\n",
    "else:\n",
    "    context.logger.info(\"Creating the evaluators...............................................................\")\n",
    "    eval_manager = EvaluatorManager(context)\n",
    "\n",
    "context.logger.info(\n",
    "    \"Evaluating the explainers.............................................................\"\n",
    ")\n",
    "\n",
    "eval_manager.evaluate()\n",
    "\n",
    "# Additional stuff\n",
    "# context.logger.info(f\"graph_ids: {eval_manager._evaluators[0].get_instance_and_counterfactual_ids()}\") # NON È STATO SISTEMATO PER CONTEMPLARE IL CASO DI PIU' PAZIENTI\n",
    "context.logger.info(f\"graph_metrics: {eval_manager._evaluators[0].get_instance_and_counterfactual_graph_metrics()}\")"
   ]
  },
  {
   "cell_type": "code",
   "execution_count": null,
   "metadata": {},
   "outputs": [],
   "source": [
    "# Save eval_manager to file\n",
    "file_name = get_most_recent_file(logs_path).split('.')[0]\n",
    "\n",
    "with open(eval_manager_path + file_name + \".pkl\", 'wb') as f:\n",
    "    pickle.dump(eval_manager, f)"
   ]
  },
  {
   "cell_type": "markdown",
   "metadata": {},
   "source": [
    "## _______________________________________________________________"
   ]
  },
  {
   "cell_type": "code",
   "execution_count": null,
   "metadata": {},
   "outputs": [
    {
     "name": "stdout",
     "output_type": "stream",
     "text": [
      "Last full run: 28/03/2025, ore 18:13\n"
     ]
    }
   ],
   "source": [
    "import datetime\n",
    "\n",
    "now = datetime.datetime.now()\n",
    "print(\"Last full run:\", now.strftime(\"%d/%m/%Y, ore %H:%M\"))"
   ]
  },
  {
   "cell_type": "code",
   "execution_count": null,
   "metadata": {},
   "outputs": [],
   "source": [
    "import winsound\n",
    "\n",
    "winsound.Beep(440, 500)\n",
    "winsound.Beep(400, 500)\n",
    "winsound.Beep(440, 500)"
   ]
  },
  {
   "cell_type": "code",
   "execution_count": null,
   "metadata": {},
   "outputs": [],
   "source": [
    "# from src.data_analysis.future.data_analyzer import DataAnalyzer as data_analyzer\n",
    "\n",
    "# results_path = \"output\\\\results\"\n",
    "# stats_file_path = \"output\"\n",
    "# res = data_analyzer.create_aggregated_dataframe(results_path)\n",
    "# res.to_csv(stats_file_path)\n",
    "# res"
   ]
  }
 ],
 "metadata": {
  "kernelspec": {
   "display_name": "GRETEL_2",
   "language": "python",
   "name": "python3"
  },
  "language_info": {
   "codemirror_mode": {
    "name": "ipython",
    "version": 3
   },
   "file_extension": ".py",
   "mimetype": "text/x-python",
   "name": "python",
   "nbconvert_exporter": "python",
   "pygments_lexer": "ipython3",
   "version": "3.9.20"
  }
 },
 "nbformat": 4,
 "nbformat_minor": 2
}
